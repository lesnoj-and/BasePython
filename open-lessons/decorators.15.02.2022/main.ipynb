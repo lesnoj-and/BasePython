{
 "cells": [
  {
   "cell_type": "code",
   "execution_count": 1,
   "id": "230ab6ee",
   "metadata": {},
   "outputs": [
    {
     "name": "stdout",
     "output_type": "stream",
     "text": [
      "Hello world!\n"
     ]
    }
   ],
   "source": [
    "print(\"Hello world!\")"
   ]
  },
  {
   "cell_type": "code",
   "execution_count": 2,
   "id": "a320c23b",
   "metadata": {},
   "outputs": [],
   "source": [
    "def hello():\n",
    "    print(\"Hello\")"
   ]
  },
  {
   "cell_type": "code",
   "execution_count": 3,
   "id": "e8da5f9b",
   "metadata": {},
   "outputs": [
    {
     "data": {
      "text/plain": [
       "<function __main__.hello()>"
      ]
     },
     "execution_count": 3,
     "metadata": {},
     "output_type": "execute_result"
    }
   ],
   "source": [
    "hello"
   ]
  },
  {
   "cell_type": "code",
   "execution_count": 4,
   "id": "fb36b8b1",
   "metadata": {},
   "outputs": [
    {
     "name": "stdout",
     "output_type": "stream",
     "text": [
      "Hello\n"
     ]
    }
   ],
   "source": [
    "hello()"
   ]
  },
  {
   "cell_type": "code",
   "execution_count": 5,
   "id": "8961c6ce",
   "metadata": {},
   "outputs": [
    {
     "name": "stdout",
     "output_type": "stream",
     "text": [
      "Hello\n"
     ]
    }
   ],
   "source": [
    "hello()"
   ]
  },
  {
   "cell_type": "code",
   "execution_count": 6,
   "id": "fc076021",
   "metadata": {},
   "outputs": [
    {
     "name": "stdout",
     "output_type": "stream",
     "text": [
      "Hello\n"
     ]
    }
   ],
   "source": [
    "hello()"
   ]
  },
  {
   "cell_type": "code",
   "execution_count": 7,
   "id": "2aad4d91",
   "metadata": {},
   "outputs": [],
   "source": [
    "def power_number(number, power=2):\n",
    "    return number ** power"
   ]
  },
  {
   "cell_type": "code",
   "execution_count": 8,
   "id": "bbdcd7af",
   "metadata": {},
   "outputs": [
    {
     "data": {
      "text/plain": [
       "<function __main__.power_number(number, power=2)>"
      ]
     },
     "execution_count": 8,
     "metadata": {},
     "output_type": "execute_result"
    }
   ],
   "source": [
    "power_number"
   ]
  },
  {
   "cell_type": "code",
   "execution_count": 9,
   "id": "9573f1e2",
   "metadata": {},
   "outputs": [
    {
     "data": {
      "text/plain": [
       "<function __main__.hello()>"
      ]
     },
     "execution_count": 9,
     "metadata": {},
     "output_type": "execute_result"
    }
   ],
   "source": [
    "hello"
   ]
  },
  {
   "cell_type": "code",
   "execution_count": 10,
   "id": "1e222c80",
   "metadata": {},
   "outputs": [
    {
     "data": {
      "text/plain": [
       "9"
      ]
     },
     "execution_count": 10,
     "metadata": {},
     "output_type": "execute_result"
    }
   ],
   "source": [
    "power_number(3)"
   ]
  },
  {
   "cell_type": "code",
   "execution_count": 11,
   "id": "35ec4418",
   "metadata": {
    "scrolled": true
   },
   "outputs": [
    {
     "name": "stdout",
     "output_type": "stream",
     "text": [
      "Hello\n",
      "None\n"
     ]
    }
   ],
   "source": [
    "print(hello())"
   ]
  },
  {
   "cell_type": "code",
   "execution_count": 12,
   "id": "45f4ee8c",
   "metadata": {},
   "outputs": [
    {
     "data": {
      "text/plain": [
       "8"
      ]
     },
     "execution_count": 12,
     "metadata": {},
     "output_type": "execute_result"
    }
   ],
   "source": [
    "power_number(2, 3)"
   ]
  },
  {
   "cell_type": "code",
   "execution_count": 13,
   "id": "965a6373",
   "metadata": {},
   "outputs": [
    {
     "data": {
      "text/plain": [
       "8"
      ]
     },
     "execution_count": 13,
     "metadata": {},
     "output_type": "execute_result"
    }
   ],
   "source": [
    "power_number(2, power=3)"
   ]
  },
  {
   "cell_type": "code",
   "execution_count": 14,
   "id": "64e28339",
   "metadata": {},
   "outputs": [
    {
     "data": {
      "text/plain": [
       "8"
      ]
     },
     "execution_count": 14,
     "metadata": {},
     "output_type": "execute_result"
    }
   ],
   "source": [
    "power_number(number=2, power=3)"
   ]
  },
  {
   "cell_type": "code",
   "execution_count": 15,
   "id": "fab895e4",
   "metadata": {},
   "outputs": [
    {
     "data": {
      "text/plain": [
       "8"
      ]
     },
     "execution_count": 15,
     "metadata": {},
     "output_type": "execute_result"
    }
   ],
   "source": [
    "power_number(power=3, number=2)"
   ]
  },
  {
   "cell_type": "code",
   "execution_count": 16,
   "id": "0bf7e8f0",
   "metadata": {},
   "outputs": [
    {
     "data": {
      "text/plain": [
       "9"
      ]
     },
     "execution_count": 16,
     "metadata": {},
     "output_type": "execute_result"
    }
   ],
   "source": [
    "power_number(3, 2)"
   ]
  },
  {
   "cell_type": "code",
   "execution_count": 17,
   "id": "497d24a0",
   "metadata": {},
   "outputs": [],
   "source": [
    "def power_numbers(*numbers, power=2):\n",
    "    return [number ** power for number in numbers]"
   ]
  },
  {
   "cell_type": "code",
   "execution_count": 18,
   "id": "975b0f65",
   "metadata": {},
   "outputs": [
    {
     "data": {
      "text/plain": [
       "[1, 4, 9, 16, 25]"
      ]
     },
     "execution_count": 18,
     "metadata": {},
     "output_type": "execute_result"
    }
   ],
   "source": [
    "power_numbers(1, 2, 3, 4, 5)"
   ]
  },
  {
   "cell_type": "code",
   "execution_count": 19,
   "id": "4515def1",
   "metadata": {},
   "outputs": [
    {
     "data": {
      "text/plain": [
       "[1, 4, 9, 16, 25, 9]"
      ]
     },
     "execution_count": 19,
     "metadata": {},
     "output_type": "execute_result"
    }
   ],
   "source": [
    "power_numbers(1, 2, 3, 4, 5, 3)"
   ]
  },
  {
   "cell_type": "code",
   "execution_count": 20,
   "id": "83777bee",
   "metadata": {},
   "outputs": [
    {
     "data": {
      "text/plain": [
       "[1, 8, 27, 64, 125]"
      ]
     },
     "execution_count": 20,
     "metadata": {},
     "output_type": "execute_result"
    }
   ],
   "source": [
    "power_numbers(1, 2, 3, 4, 5, power=3)"
   ]
  },
  {
   "cell_type": "code",
   "execution_count": 21,
   "id": "a83a16f9",
   "metadata": {},
   "outputs": [
    {
     "data": {
      "text/plain": [
       "[1, 125]"
      ]
     },
     "execution_count": 21,
     "metadata": {},
     "output_type": "execute_result"
    }
   ],
   "source": [
    "power_numbers(1, 5, power=3)"
   ]
  },
  {
   "cell_type": "code",
   "execution_count": 22,
   "id": "537838b8",
   "metadata": {},
   "outputs": [
    {
     "data": {
      "text/plain": [
       "[]"
      ]
     },
     "execution_count": 22,
     "metadata": {},
     "output_type": "execute_result"
    }
   ],
   "source": [
    "power_numbers(power=3)"
   ]
  },
  {
   "cell_type": "code",
   "execution_count": 23,
   "id": "f399407d",
   "metadata": {},
   "outputs": [
    {
     "data": {
      "text/plain": [
       "[]"
      ]
     },
     "execution_count": 23,
     "metadata": {},
     "output_type": "execute_result"
    }
   ],
   "source": [
    "power_numbers()"
   ]
  },
  {
   "cell_type": "code",
   "execution_count": 24,
   "id": "eb60b118",
   "metadata": {},
   "outputs": [
    {
     "data": {
      "text/plain": [
       "[1, 25, 49]"
      ]
     },
     "execution_count": 24,
     "metadata": {},
     "output_type": "execute_result"
    }
   ],
   "source": [
    "power_numbers(1,5,7)"
   ]
  },
  {
   "cell_type": "code",
   "execution_count": 25,
   "id": "21c98658",
   "metadata": {},
   "outputs": [
    {
     "data": {
      "text/plain": [
       "[49]"
      ]
     },
     "execution_count": 25,
     "metadata": {},
     "output_type": "execute_result"
    }
   ],
   "source": [
    "power_numbers(7)"
   ]
  },
  {
   "cell_type": "code",
   "execution_count": 26,
   "id": "188ea6a5",
   "metadata": {},
   "outputs": [
    {
     "name": "stdout",
     "output_type": "stream",
     "text": [
      "[5, 7, 9]\n"
     ]
    }
   ],
   "source": [
    "numbers_list = [5, 7, 9]\n",
    "print(numbers_list)"
   ]
  },
  {
   "cell_type": "code",
   "execution_count": 27,
   "id": "eea374fc",
   "metadata": {},
   "outputs": [
    {
     "ename": "TypeError",
     "evalue": "unsupported operand type(s) for ** or pow(): 'list' and 'int'",
     "output_type": "error",
     "traceback": [
      "\u001B[0;31m---------------------------------------------------------------------------\u001B[0m",
      "\u001B[0;31mTypeError\u001B[0m                                 Traceback (most recent call last)",
      "\u001B[0;32m/var/folders/fj/49hkzfz15_zcq5jwvzbzk6fm0000gn/T/ipykernel_30139/394153349.py\u001B[0m in \u001B[0;36m<module>\u001B[0;34m\u001B[0m\n\u001B[0;32m----> 1\u001B[0;31m \u001B[0mpower_numbers\u001B[0m\u001B[0;34m(\u001B[0m\u001B[0mnumbers_list\u001B[0m\u001B[0;34m)\u001B[0m\u001B[0;34m\u001B[0m\u001B[0;34m\u001B[0m\u001B[0m\n\u001B[0m",
      "\u001B[0;32m/var/folders/fj/49hkzfz15_zcq5jwvzbzk6fm0000gn/T/ipykernel_30139/1006556529.py\u001B[0m in \u001B[0;36mpower_numbers\u001B[0;34m(power, *numbers)\u001B[0m\n\u001B[1;32m      1\u001B[0m \u001B[0;32mdef\u001B[0m \u001B[0mpower_numbers\u001B[0m\u001B[0;34m(\u001B[0m\u001B[0;34m*\u001B[0m\u001B[0mnumbers\u001B[0m\u001B[0;34m,\u001B[0m \u001B[0mpower\u001B[0m\u001B[0;34m=\u001B[0m\u001B[0;36m2\u001B[0m\u001B[0;34m)\u001B[0m\u001B[0;34m:\u001B[0m\u001B[0;34m\u001B[0m\u001B[0;34m\u001B[0m\u001B[0m\n\u001B[0;32m----> 2\u001B[0;31m     \u001B[0;32mreturn\u001B[0m \u001B[0;34m[\u001B[0m\u001B[0mnumber\u001B[0m \u001B[0;34m**\u001B[0m \u001B[0mpower\u001B[0m \u001B[0;32mfor\u001B[0m \u001B[0mnumber\u001B[0m \u001B[0;32min\u001B[0m \u001B[0mnumbers\u001B[0m\u001B[0;34m]\u001B[0m\u001B[0;34m\u001B[0m\u001B[0;34m\u001B[0m\u001B[0m\n\u001B[0m",
      "\u001B[0;32m/var/folders/fj/49hkzfz15_zcq5jwvzbzk6fm0000gn/T/ipykernel_30139/1006556529.py\u001B[0m in \u001B[0;36m<listcomp>\u001B[0;34m(.0)\u001B[0m\n\u001B[1;32m      1\u001B[0m \u001B[0;32mdef\u001B[0m \u001B[0mpower_numbers\u001B[0m\u001B[0;34m(\u001B[0m\u001B[0;34m*\u001B[0m\u001B[0mnumbers\u001B[0m\u001B[0;34m,\u001B[0m \u001B[0mpower\u001B[0m\u001B[0;34m=\u001B[0m\u001B[0;36m2\u001B[0m\u001B[0;34m)\u001B[0m\u001B[0;34m:\u001B[0m\u001B[0;34m\u001B[0m\u001B[0;34m\u001B[0m\u001B[0m\n\u001B[0;32m----> 2\u001B[0;31m     \u001B[0;32mreturn\u001B[0m \u001B[0;34m[\u001B[0m\u001B[0mnumber\u001B[0m \u001B[0;34m**\u001B[0m \u001B[0mpower\u001B[0m \u001B[0;32mfor\u001B[0m \u001B[0mnumber\u001B[0m \u001B[0;32min\u001B[0m \u001B[0mnumbers\u001B[0m\u001B[0;34m]\u001B[0m\u001B[0;34m\u001B[0m\u001B[0;34m\u001B[0m\u001B[0m\n\u001B[0m",
      "\u001B[0;31mTypeError\u001B[0m: unsupported operand type(s) for ** or pow(): 'list' and 'int'"
     ]
    }
   ],
   "source": [
    "power_numbers(numbers_list)"
   ]
  },
  {
   "cell_type": "code",
   "execution_count": 28,
   "id": "4898b4c1",
   "metadata": {},
   "outputs": [
    {
     "data": {
      "text/plain": [
       "[25, 49, 81]"
      ]
     },
     "execution_count": 28,
     "metadata": {},
     "output_type": "execute_result"
    }
   ],
   "source": [
    "power_numbers(*numbers_list)"
   ]
  },
  {
   "cell_type": "code",
   "execution_count": 29,
   "id": "8ebc325c",
   "metadata": {},
   "outputs": [
    {
     "name": "stdout",
     "output_type": "stream",
     "text": [
      "[5, 7, 9]\n"
     ]
    }
   ],
   "source": [
    "print(numbers_list)"
   ]
  },
  {
   "cell_type": "code",
   "execution_count": 30,
   "id": "53683c3d",
   "metadata": {},
   "outputs": [
    {
     "data": {
      "text/plain": [
       "[125, 343, 729]"
      ]
     },
     "execution_count": 30,
     "metadata": {},
     "output_type": "execute_result"
    }
   ],
   "source": [
    "power_numbers(*numbers_list, power=3)"
   ]
  },
  {
   "cell_type": "code",
   "execution_count": 31,
   "id": "68f290ca",
   "metadata": {},
   "outputs": [
    {
     "data": {
      "text/plain": [
       "<function __main__.power_number(number, power=2)>"
      ]
     },
     "execution_count": 31,
     "metadata": {},
     "output_type": "execute_result"
    }
   ],
   "source": [
    "power_number"
   ]
  },
  {
   "cell_type": "code",
   "execution_count": 32,
   "id": "5fe7a846",
   "metadata": {},
   "outputs": [
    {
     "name": "stdout",
     "output_type": "stream",
     "text": [
      "(4, 3)\n"
     ]
    }
   ],
   "source": [
    "num_and_pow = 4, 3\n",
    "print(num_and_pow)"
   ]
  },
  {
   "cell_type": "code",
   "execution_count": 33,
   "id": "8ffccdf1",
   "metadata": {},
   "outputs": [
    {
     "data": {
      "text/plain": [
       "64"
      ]
     },
     "execution_count": 33,
     "metadata": {},
     "output_type": "execute_result"
    }
   ],
   "source": [
    "power_number(*num_and_pow)"
   ]
  },
  {
   "cell_type": "code",
   "execution_count": 34,
   "id": "5c8844a8",
   "metadata": {},
   "outputs": [
    {
     "name": "stdout",
     "output_type": "stream",
     "text": [
      "[5, 7, 9]\n",
      "a = 5 b = 7 c = 9\n"
     ]
    }
   ],
   "source": [
    "print(numbers_list)\n",
    "a, b, c = numbers_list \n",
    "print(\"a =\", a, \"b =\", b, \"c =\", c)"
   ]
  },
  {
   "cell_type": "code",
   "execution_count": 35,
   "id": "595523b7",
   "metadata": {
    "scrolled": true
   },
   "outputs": [
    {
     "name": "stdout",
     "output_type": "stream",
     "text": [
      "{'number': 3, 'power': 2}\n"
     ]
    }
   ],
   "source": [
    "params = {\n",
    "    \"number\": 3,\n",
    "    \"power\": 2,\n",
    "}\n",
    "\n",
    "print(params)"
   ]
  },
  {
   "cell_type": "code",
   "execution_count": 36,
   "id": "79150fc6",
   "metadata": {},
   "outputs": [
    {
     "name": "stdout",
     "output_type": "stream",
     "text": [
      "{'number': 4, 'power': 2}\n"
     ]
    }
   ],
   "source": [
    "params[\"number\"] = 4\n",
    "\n",
    "print(params)"
   ]
  },
  {
   "cell_type": "code",
   "execution_count": 37,
   "id": "8df0c0c4",
   "metadata": {},
   "outputs": [
    {
     "data": {
      "text/plain": [
       "16"
      ]
     },
     "execution_count": 37,
     "metadata": {},
     "output_type": "execute_result"
    }
   ],
   "source": [
    "power_number(**params)"
   ]
  },
  {
   "cell_type": "code",
   "execution_count": 38,
   "id": "4f0b7f4f",
   "metadata": {},
   "outputs": [
    {
     "data": {
      "text/plain": [
       "256"
      ]
     },
     "execution_count": 38,
     "metadata": {},
     "output_type": "execute_result"
    }
   ],
   "source": [
    "params[\"power\"] = 4\n",
    "\n",
    "power_number(**params)"
   ]
  },
  {
   "cell_type": "code",
   "execution_count": 39,
   "id": "c6e960a8",
   "metadata": {},
   "outputs": [
    {
     "data": {
      "text/plain": [
       "{'number': 4, 'power': 4}"
      ]
     },
     "execution_count": 39,
     "metadata": {},
     "output_type": "execute_result"
    }
   ],
   "source": [
    "params"
   ]
  },
  {
   "cell_type": "code",
   "execution_count": 40,
   "id": "c8e20961",
   "metadata": {},
   "outputs": [
    {
     "data": {
      "text/plain": [
       "4"
      ]
     },
     "execution_count": 40,
     "metadata": {},
     "output_type": "execute_result"
    }
   ],
   "source": [
    "params.pop(\"power\")"
   ]
  },
  {
   "cell_type": "code",
   "execution_count": 41,
   "id": "7c958b1f",
   "metadata": {
    "scrolled": false
   },
   "outputs": [
    {
     "data": {
      "text/plain": [
       "{'number': 4}"
      ]
     },
     "execution_count": 41,
     "metadata": {},
     "output_type": "execute_result"
    }
   ],
   "source": [
    "params"
   ]
  },
  {
   "cell_type": "code",
   "execution_count": 42,
   "id": "a52aae0f",
   "metadata": {},
   "outputs": [
    {
     "data": {
      "text/plain": [
       "16"
      ]
     },
     "execution_count": 42,
     "metadata": {},
     "output_type": "execute_result"
    }
   ],
   "source": [
    "power_number(**params)"
   ]
  },
  {
   "cell_type": "code",
   "execution_count": 43,
   "id": "82622eee",
   "metadata": {},
   "outputs": [
    {
     "data": {
      "text/plain": [
       "<function __main__.power_number(number, power=2)>"
      ]
     },
     "execution_count": 43,
     "metadata": {},
     "output_type": "execute_result"
    }
   ],
   "source": [
    "power_number"
   ]
  },
  {
   "cell_type": "code",
   "execution_count": 44,
   "id": "944cfaa6",
   "metadata": {},
   "outputs": [
    {
     "data": {
      "text/plain": [
       "{'single': <function __main__.power_number(number, power=2)>,\n",
       " 'many': <function __main__.power_numbers(*numbers, power=2)>}"
      ]
     },
     "execution_count": 44,
     "metadata": {},
     "output_type": "execute_result"
    }
   ],
   "source": [
    "power_functions = {\n",
    "    \"single\": power_number,\n",
    "    \"many\": power_numbers,\n",
    "}\n",
    "\n",
    "power_functions"
   ]
  },
  {
   "cell_type": "code",
   "execution_count": 45,
   "id": "568fc47b",
   "metadata": {},
   "outputs": [],
   "source": [
    "def accept_any_kwargs(**kwargs):\n",
    "    print(\"got kwargs\", kwargs, \"show them one by one:\")\n",
    "    for key, value in kwargs.items():\n",
    "        print(\"key:\", key, \"value:\", value)"
   ]
  },
  {
   "cell_type": "code",
   "execution_count": 46,
   "id": "8bcb7250",
   "metadata": {},
   "outputs": [
    {
     "name": "stdout",
     "output_type": "stream",
     "text": [
      "got kwargs {'foo': 'bar', 'spam': 'eggs', 'fizz': 'buzz', 'abc': 123, 'qwe': None, 't': (1, 2), 'l': [4, 5]} show them one by one:\n",
      "key: foo value: bar\n",
      "key: spam value: eggs\n",
      "key: fizz value: buzz\n",
      "key: abc value: 123\n",
      "key: qwe value: None\n",
      "key: t value: (1, 2)\n",
      "key: l value: [4, 5]\n"
     ]
    }
   ],
   "source": [
    "accept_any_kwargs(foo=\"bar\", spam=\"eggs\", fizz=\"buzz\",\n",
    "                 abc=123, qwe=None, t=(1, 2), l=[4,5])"
   ]
  },
  {
   "cell_type": "code",
   "execution_count": 47,
   "id": "3da9df43",
   "metadata": {},
   "outputs": [
    {
     "name": "stdout",
     "output_type": "stream",
     "text": [
      "got kwargs {} show them one by one:\n"
     ]
    }
   ],
   "source": [
    "accept_any_kwargs()"
   ]
  },
  {
   "cell_type": "code",
   "execution_count": 48,
   "id": "ba0a95cc",
   "metadata": {},
   "outputs": [
    {
     "name": "stdout",
     "output_type": "stream",
     "text": [
      "got kwargs {'foo': 'bar'} show them one by one:\n",
      "key: foo value: bar\n"
     ]
    }
   ],
   "source": [
    "accept_any_kwargs(foo=\"bar\")"
   ]
  },
  {
   "cell_type": "code",
   "execution_count": 49,
   "id": "f06d57d7",
   "metadata": {},
   "outputs": [],
   "source": [
    "def find_by_keys(*keys, **kwargs):\n",
    "    print(\"find values for keys\", keys, \n",
    "          \"in kwargs\", kwargs)\n",
    "    for key, value in kwargs.items():\n",
    "        if key in keys:\n",
    "            print(\"key\", key, \"value\", value)"
   ]
  },
  {
   "cell_type": "code",
   "execution_count": 50,
   "id": "55b23563",
   "metadata": {},
   "outputs": [
    {
     "name": "stdout",
     "output_type": "stream",
     "text": [
      "find values for keys () in kwargs {}\n"
     ]
    }
   ],
   "source": [
    "find_by_keys()"
   ]
  },
  {
   "cell_type": "code",
   "execution_count": 51,
   "id": "62b5ee98",
   "metadata": {},
   "outputs": [
    {
     "name": "stdout",
     "output_type": "stream",
     "text": [
      "find values for keys ('foo', 'bar') in kwargs {'spam': 'eggs', 'fizz': 'buzz'}\n"
     ]
    }
   ],
   "source": [
    "find_by_keys(\"foo\", \"bar\", spam=\"eggs\", fizz=\"buzz\")"
   ]
  },
  {
   "cell_type": "code",
   "execution_count": 52,
   "id": "6d072fa8",
   "metadata": {},
   "outputs": [
    {
     "name": "stdout",
     "output_type": "stream",
     "text": [
      "find values for keys ('spam', 'bar') in kwargs {'spam': 'eggs', 'fizz': 'buzz'}\n",
      "key spam value eggs\n"
     ]
    }
   ],
   "source": [
    "find_by_keys(\"spam\", \"bar\", spam=\"eggs\", fizz=\"buzz\")"
   ]
  },
  {
   "cell_type": "code",
   "execution_count": 53,
   "id": "a9ab5e97",
   "metadata": {},
   "outputs": [
    {
     "name": "stdout",
     "output_type": "stream",
     "text": [
      "find values for keys ('spam', 'fizz') in kwargs {'spam': 'eggs', 'fizz': 'buzz'}\n",
      "key spam value eggs\n",
      "key fizz value buzz\n"
     ]
    }
   ],
   "source": [
    "find_by_keys(\"spam\", \"fizz\", spam=\"eggs\", fizz=\"buzz\")"
   ]
  },
  {
   "cell_type": "code",
   "execution_count": 54,
   "id": "19712600",
   "metadata": {},
   "outputs": [
    {
     "name": "stdout",
     "output_type": "stream",
     "text": [
      "find values for keys ('spam', 'fizz') in kwargs {'spam': 'eggs', 'fizz': 'buzz', 'qwe': 123}\n",
      "key spam value eggs\n",
      "key fizz value buzz\n"
     ]
    }
   ],
   "source": [
    "find_by_keys(\"spam\", \"fizz\", spam=\"eggs\", fizz=\"buzz\", qwe=123)"
   ]
  },
  {
   "cell_type": "code",
   "execution_count": 55,
   "id": "231e7dfa",
   "metadata": {},
   "outputs": [
    {
     "data": {
      "text/plain": [
       "<function __main__.find_by_keys(*keys, **kwargs)>"
      ]
     },
     "execution_count": 55,
     "metadata": {},
     "output_type": "execute_result"
    }
   ],
   "source": [
    "find_by_keys"
   ]
  },
  {
   "cell_type": "code",
   "execution_count": 56,
   "id": "049b67cc",
   "metadata": {},
   "outputs": [
    {
     "name": "stdout",
     "output_type": "stream",
     "text": [
      "[1, None, 'spam']\n",
      "{None: 'no data', 'foo': 'bar', 1: 'one', 'spam': ['spam', 'eggs'], 'qwe': 123, 'fizz': 'buzz'}\n"
     ]
    }
   ],
   "source": [
    "some_keys = [1, None, \"spam\"]\n",
    "some_data = {\n",
    "    None: \"no data\",\n",
    "    \"foo\": \"bar\",\n",
    "    1: \"one\",\n",
    "    \"spam\": [\"spam\", \"eggs\"],\n",
    "    \"qwe\": 123,\n",
    "    \"fizz\": \"buzz\",\n",
    "}\n",
    "\n",
    "print(some_keys)\n",
    "print(some_data)"
   ]
  },
  {
   "cell_type": "code",
   "execution_count": 59,
   "id": "37942147",
   "metadata": {},
   "outputs": [
    {
     "data": {
      "text/plain": [
       "'no data'"
      ]
     },
     "execution_count": 59,
     "metadata": {},
     "output_type": "execute_result"
    }
   ],
   "source": [
    "some_data.pop(1)\n",
    "some_data.pop(None)"
   ]
  },
  {
   "cell_type": "code",
   "execution_count": 60,
   "id": "bbbb53f5",
   "metadata": {},
   "outputs": [
    {
     "name": "stdout",
     "output_type": "stream",
     "text": [
      "find values for keys (1, None, 'spam') in kwargs {'foo': 'bar', 'spam': ['spam', 'eggs'], 'qwe': 123, 'fizz': 'buzz'}\n",
      "key spam value ['spam', 'eggs']\n"
     ]
    }
   ],
   "source": [
    "find_by_keys(*some_keys, **some_data)"
   ]
  },
  {
   "cell_type": "code",
   "execution_count": 61,
   "id": "6df03da7",
   "metadata": {},
   "outputs": [
    {
     "name": "stdout",
     "output_type": "stream",
     "text": [
      "find values for keys (1, None, 'spam', 'fizz') in kwargs {'foo': 'bar', 'spam': ['spam', 'eggs'], 'qwe': 123, 'fizz': 'buzz'}\n",
      "key spam value ['spam', 'eggs']\n",
      "key fizz value buzz\n"
     ]
    }
   ],
   "source": [
    "find_by_keys(*some_keys, 'fizz', **some_data)"
   ]
  },
  {
   "cell_type": "code",
   "execution_count": 62,
   "id": "058a432e",
   "metadata": {},
   "outputs": [
    {
     "name": "stdout",
     "output_type": "stream",
     "text": [
      "find values for keys ('foo', 'spam', 'qwe', 'fizz') in kwargs {'foo': 'bar', 'spam': ['spam', 'eggs'], 'qwe': 123, 'fizz': 'buzz'}\n",
      "key foo value bar\n",
      "key spam value ['spam', 'eggs']\n",
      "key qwe value 123\n",
      "key fizz value buzz\n"
     ]
    }
   ],
   "source": [
    "find_by_keys(*some_data, **some_data)"
   ]
  },
  {
   "cell_type": "code",
   "execution_count": 63,
   "id": "db647d40",
   "metadata": {},
   "outputs": [
    {
     "data": {
      "text/plain": [
       "[1, 2, 3]"
      ]
     },
     "execution_count": 63,
     "metadata": {},
     "output_type": "execute_result"
    }
   ],
   "source": [
    "[1, 2, 3]"
   ]
  },
  {
   "cell_type": "code",
   "execution_count": 64,
   "id": "8574d03f",
   "metadata": {},
   "outputs": [
    {
     "data": {
      "text/plain": [
       "(1, 2, 3)"
      ]
     },
     "execution_count": 64,
     "metadata": {},
     "output_type": "execute_result"
    }
   ],
   "source": [
    "(1, 2, 3)"
   ]
  },
  {
   "cell_type": "code",
   "execution_count": 65,
   "id": "babbe731",
   "metadata": {},
   "outputs": [
    {
     "data": {
      "text/plain": [
       "(1, 2, 3)"
      ]
     },
     "execution_count": 65,
     "metadata": {},
     "output_type": "execute_result"
    }
   ],
   "source": [
    "t = (1, 2, 3)\n",
    "t"
   ]
  },
  {
   "cell_type": "code",
   "execution_count": 66,
   "id": "5b918f57",
   "metadata": {},
   "outputs": [
    {
     "data": {
      "text/plain": [
       "[1, None, 'spam']"
      ]
     },
     "execution_count": 66,
     "metadata": {},
     "output_type": "execute_result"
    }
   ],
   "source": [
    "some_keys"
   ]
  },
  {
   "cell_type": "code",
   "execution_count": 67,
   "id": "69f981cb",
   "metadata": {},
   "outputs": [
    {
     "data": {
      "text/plain": [
       "1"
      ]
     },
     "execution_count": 67,
     "metadata": {},
     "output_type": "execute_result"
    }
   ],
   "source": [
    "some_keys.pop(0)"
   ]
  },
  {
   "cell_type": "code",
   "execution_count": 68,
   "id": "5c521338",
   "metadata": {},
   "outputs": [
    {
     "data": {
      "text/plain": [
       "[None, 'spam']"
      ]
     },
     "execution_count": 68,
     "metadata": {},
     "output_type": "execute_result"
    }
   ],
   "source": [
    "some_keys"
   ]
  },
  {
   "cell_type": "code",
   "execution_count": 69,
   "id": "ecc6307f",
   "metadata": {},
   "outputs": [
    {
     "data": {
      "text/plain": [
       "(1, 2, 3)"
      ]
     },
     "execution_count": 69,
     "metadata": {},
     "output_type": "execute_result"
    }
   ],
   "source": [
    "t"
   ]
  },
  {
   "cell_type": "code",
   "execution_count": 70,
   "id": "93db9387",
   "metadata": {},
   "outputs": [],
   "source": [
    "t = (4, 5)"
   ]
  },
  {
   "cell_type": "code",
   "execution_count": 71,
   "id": "a9f7933e",
   "metadata": {},
   "outputs": [
    {
     "data": {
      "text/plain": [
       "(4, 5)"
      ]
     },
     "execution_count": 71,
     "metadata": {},
     "output_type": "execute_result"
    }
   ],
   "source": [
    "t"
   ]
  },
  {
   "cell_type": "code",
   "execution_count": 72,
   "id": "7b29b82f",
   "metadata": {},
   "outputs": [
    {
     "data": {
      "text/plain": [
       "[None, 'spam', '5', 4]"
      ]
     },
     "execution_count": 72,
     "metadata": {},
     "output_type": "execute_result"
    }
   ],
   "source": [
    "some_keys.append(\"5\")\n",
    "some_keys.append(4)\n",
    "some_keys"
   ]
  },
  {
   "cell_type": "code",
   "execution_count": 73,
   "id": "fbda1cb2",
   "metadata": {},
   "outputs": [
    {
     "name": "stdout",
     "output_type": "stream",
     "text": [
      "4\n",
      "5\n"
     ]
    }
   ],
   "source": [
    "a, b = 4, 5\n",
    "print(a)\n",
    "print(b)"
   ]
  },
  {
   "cell_type": "code",
   "execution_count": 74,
   "id": "da719c7e",
   "metadata": {},
   "outputs": [
    {
     "data": {
      "text/plain": [
       "(5, 6)"
      ]
     },
     "execution_count": 74,
     "metadata": {},
     "output_type": "execute_result"
    }
   ],
   "source": [
    "t = 5, 6\n",
    "t"
   ]
  },
  {
   "cell_type": "code",
   "execution_count": 75,
   "id": "1fee5ccb",
   "metadata": {},
   "outputs": [],
   "source": [
    "def my_function():\n",
    "    print(\"my function runs\")"
   ]
  },
  {
   "cell_type": "code",
   "execution_count": 76,
   "id": "68be45b8",
   "metadata": {},
   "outputs": [
    {
     "name": "stdout",
     "output_type": "stream",
     "text": [
      "my function runs\n"
     ]
    }
   ],
   "source": [
    "my_function()"
   ]
  },
  {
   "cell_type": "code",
   "execution_count": 77,
   "id": "d4791133",
   "metadata": {},
   "outputs": [
    {
     "data": {
      "text/plain": [
       "<function __main__.my_function()>"
      ]
     },
     "execution_count": 77,
     "metadata": {},
     "output_type": "execute_result"
    }
   ],
   "source": [
    "my_function"
   ]
  },
  {
   "cell_type": "code",
   "execution_count": 78,
   "id": "fb8505e8",
   "metadata": {},
   "outputs": [],
   "source": [
    "def my_decorator(func_to_decorate):\n",
    "    print(\"create a new function\")\n",
    "    \n",
    "    def replacement_function():\n",
    "        print(\"running replacement function, run original\")\n",
    "        func_to_decorate()\n",
    "        print(\"finished running original function, replacement too\")\n",
    "\n",
    "    print(\"created a new replacement function\")\n",
    "    \n",
    "    return replacement_function\n"
   ]
  },
  {
   "cell_type": "code",
   "execution_count": 79,
   "id": "d3cef69e",
   "metadata": {},
   "outputs": [
    {
     "data": {
      "text/plain": [
       "<function __main__.my_decorator(func_to_decorate)>"
      ]
     },
     "execution_count": 79,
     "metadata": {},
     "output_type": "execute_result"
    }
   ],
   "source": [
    "my_decorator"
   ]
  },
  {
   "cell_type": "code",
   "execution_count": 80,
   "id": "ef5ae984",
   "metadata": {},
   "outputs": [
    {
     "data": {
      "text/plain": [
       "<function __main__.my_function()>"
      ]
     },
     "execution_count": 80,
     "metadata": {},
     "output_type": "execute_result"
    }
   ],
   "source": [
    "my_function"
   ]
  },
  {
   "cell_type": "code",
   "execution_count": 81,
   "id": "f845b4be",
   "metadata": {
    "scrolled": true
   },
   "outputs": [
    {
     "name": "stdout",
     "output_type": "stream",
     "text": [
      "create a new function\n",
      "created a new replacement function\n"
     ]
    }
   ],
   "source": [
    "my_function = my_decorator(my_function)"
   ]
  },
  {
   "cell_type": "code",
   "execution_count": 82,
   "id": "92370998",
   "metadata": {
    "scrolled": true
   },
   "outputs": [
    {
     "data": {
      "text/plain": [
       "<function __main__.my_decorator.<locals>.replacement_function()>"
      ]
     },
     "execution_count": 82,
     "metadata": {},
     "output_type": "execute_result"
    }
   ],
   "source": [
    "my_function"
   ]
  },
  {
   "cell_type": "code",
   "execution_count": 83,
   "id": "3e2aef33",
   "metadata": {},
   "outputs": [
    {
     "name": "stdout",
     "output_type": "stream",
     "text": [
      "running replacement function, run original\n",
      "my function runs\n",
      "finished running original function, replacement too\n"
     ]
    }
   ],
   "source": [
    "my_function()"
   ]
  },
  {
   "cell_type": "code",
   "execution_count": 84,
   "id": "2664ffe3",
   "metadata": {},
   "outputs": [
    {
     "name": "stdout",
     "output_type": "stream",
     "text": [
      "create a new function\n",
      "created a new replacement function\n"
     ]
    }
   ],
   "source": [
    "@my_decorator\n",
    "def small_func():\n",
    "    print(\"i'm a small function\")"
   ]
  },
  {
   "cell_type": "code",
   "execution_count": 85,
   "id": "af4ac199",
   "metadata": {},
   "outputs": [
    {
     "data": {
      "text/plain": [
       "<function __main__.my_decorator.<locals>.replacement_function()>"
      ]
     },
     "execution_count": 85,
     "metadata": {},
     "output_type": "execute_result"
    }
   ],
   "source": [
    "small_func"
   ]
  },
  {
   "cell_type": "code",
   "execution_count": 86,
   "id": "2d42acd9",
   "metadata": {},
   "outputs": [
    {
     "name": "stdout",
     "output_type": "stream",
     "text": [
      "<function my_decorator.<locals>.replacement_function at 0x10447c700>\n"
     ]
    }
   ],
   "source": [
    "print(small_func)"
   ]
  },
  {
   "cell_type": "code",
   "execution_count": 87,
   "id": "f24bbf9a",
   "metadata": {},
   "outputs": [
    {
     "name": "stdout",
     "output_type": "stream",
     "text": [
      "<function my_decorator.<locals>.replacement_function at 0x10447c8b0>\n"
     ]
    }
   ],
   "source": [
    "print(my_function)"
   ]
  },
  {
   "cell_type": "code",
   "execution_count": 88,
   "id": "ef988e4a",
   "metadata": {},
   "outputs": [
    {
     "name": "stdout",
     "output_type": "stream",
     "text": [
      "running replacement function, run original\n",
      "my function runs\n",
      "finished running original function, replacement too\n"
     ]
    }
   ],
   "source": [
    "my_function()"
   ]
  },
  {
   "cell_type": "code",
   "execution_count": 89,
   "id": "7ed63af6",
   "metadata": {},
   "outputs": [
    {
     "name": "stdout",
     "output_type": "stream",
     "text": [
      "running replacement function, run original\n",
      "i'm a small function\n",
      "finished running original function, replacement too\n"
     ]
    }
   ],
   "source": [
    "small_func()"
   ]
  },
  {
   "cell_type": "code",
   "execution_count": 90,
   "id": "964578b0",
   "metadata": {},
   "outputs": [],
   "source": [
    "from functools import wraps"
   ]
  },
  {
   "cell_type": "code",
   "execution_count": 91,
   "id": "3b889c46",
   "metadata": {},
   "outputs": [],
   "source": [
    "def my_dec(func):\n",
    "    \n",
    "    @wraps(func)\n",
    "    def wrapper():\n",
    "        print(\"call func\", func)\n",
    "        func()\n",
    "        print(\"finished wrapper\")\n",
    "    \n",
    "    return wrapper"
   ]
  },
  {
   "cell_type": "code",
   "execution_count": 92,
   "id": "02be9aa0",
   "metadata": {},
   "outputs": [],
   "source": [
    "@my_dec\n",
    "def some_func():\n",
    "    print(\"some func is called\")"
   ]
  },
  {
   "cell_type": "code",
   "execution_count": 93,
   "id": "88a72a32",
   "metadata": {},
   "outputs": [
    {
     "data": {
      "text/plain": [
       "<function __main__.some_func()>"
      ]
     },
     "execution_count": 93,
     "metadata": {},
     "output_type": "execute_result"
    }
   ],
   "source": [
    "some_func"
   ]
  },
  {
   "cell_type": "code",
   "execution_count": 94,
   "id": "891270af",
   "metadata": {},
   "outputs": [
    {
     "name": "stdout",
     "output_type": "stream",
     "text": [
      "call func <function some_func at 0x10447c430>\n",
      "some func is called\n",
      "finished wrapper\n"
     ]
    }
   ],
   "source": [
    "some_func()"
   ]
  },
  {
   "cell_type": "code",
   "execution_count": 95,
   "id": "ce336b26",
   "metadata": {},
   "outputs": [
    {
     "name": "stdout",
     "output_type": "stream",
     "text": [
      "<function some_func at 0x10447cd30>\n"
     ]
    }
   ],
   "source": [
    "print(some_func)"
   ]
  },
  {
   "cell_type": "code",
   "execution_count": 96,
   "id": "a0fb577f",
   "metadata": {},
   "outputs": [],
   "source": [
    "def dec_with_one_arg(func):\n",
    "    \n",
    "    @wraps(func)\n",
    "    def wrapper(arg):\n",
    "        print(\"call func\", func, \"with arg\", arg)\n",
    "        result = func(arg)\n",
    "        print(\"result:\", result)\n",
    "        return result\n",
    "    \n",
    "    return wrapper"
   ]
  },
  {
   "cell_type": "code",
   "execution_count": 97,
   "id": "ab8dea01",
   "metadata": {},
   "outputs": [],
   "source": [
    "@dec_with_one_arg\n",
    "def cube(num):\n",
    "    return num ** 3"
   ]
  },
  {
   "cell_type": "code",
   "execution_count": 98,
   "id": "69106bd8",
   "metadata": {},
   "outputs": [
    {
     "data": {
      "text/plain": [
       "<function __main__.cube(num)>"
      ]
     },
     "execution_count": 98,
     "metadata": {},
     "output_type": "execute_result"
    }
   ],
   "source": [
    "cube"
   ]
  },
  {
   "cell_type": "code",
   "execution_count": 99,
   "id": "02f6b093",
   "metadata": {},
   "outputs": [
    {
     "name": "stdout",
     "output_type": "stream",
     "text": [
      "call func <function cube at 0x10447cee0> with arg 3\n",
      "result: 27\n"
     ]
    },
    {
     "data": {
      "text/plain": [
       "27"
      ]
     },
     "execution_count": 99,
     "metadata": {},
     "output_type": "execute_result"
    }
   ],
   "source": [
    "cube(3)"
   ]
  },
  {
   "cell_type": "code",
   "execution_count": 100,
   "id": "53d17c96",
   "metadata": {},
   "outputs": [],
   "source": [
    "from timeit import default_timer"
   ]
  },
  {
   "cell_type": "code",
   "execution_count": 101,
   "id": "de17cff8",
   "metadata": {},
   "outputs": [
    {
     "data": {
      "text/plain": [
       "3637.421223125"
      ]
     },
     "execution_count": 101,
     "metadata": {},
     "output_type": "execute_result"
    }
   ],
   "source": [
    "default_timer()"
   ]
  },
  {
   "cell_type": "code",
   "execution_count": 102,
   "id": "0bf0b1db",
   "metadata": {},
   "outputs": [
    {
     "data": {
      "text/plain": [
       "3639.514219666"
      ]
     },
     "execution_count": 102,
     "metadata": {},
     "output_type": "execute_result"
    }
   ],
   "source": [
    "default_timer()"
   ]
  },
  {
   "cell_type": "code",
   "execution_count": 103,
   "id": "dcd8fe37",
   "metadata": {},
   "outputs": [],
   "source": [
    "def show_timing(func):\n",
    "    \n",
    "    @wraps(func)\n",
    "    def wrapper(*args, **kwargs):\n",
    "        start_time = default_timer()\n",
    "        result = func(*args, **kwargs)\n",
    "        total_time = default_timer() - start_time\n",
    "        \n",
    "        print(\"executed func\",\n",
    "             func,\n",
    "             \"in {:.10f}s\".format(total_time),\n",
    "             \"and got\", \n",
    "              result)\n",
    "        \n",
    "        return result\n",
    "    \n",
    "    return wrapper"
   ]
  },
  {
   "cell_type": "code",
   "execution_count": 104,
   "id": "c1a9e5d3",
   "metadata": {},
   "outputs": [],
   "source": [
    "@show_timing\n",
    "def power_nums(*nums, power=2):\n",
    "    return [num ** power for num in nums]"
   ]
  },
  {
   "cell_type": "code",
   "execution_count": 105,
   "id": "23c6acaa",
   "metadata": {},
   "outputs": [
    {
     "name": "stdout",
     "output_type": "stream",
     "text": [
      "executed func <function power_nums at 0x10447ca60> in 0.0000064590s and got [1, 4, 9]\n"
     ]
    },
    {
     "data": {
      "text/plain": [
       "[1, 4, 9]"
      ]
     },
     "execution_count": 105,
     "metadata": {},
     "output_type": "execute_result"
    }
   ],
   "source": [
    "power_nums(1, 2, 3)"
   ]
  },
  {
   "cell_type": "code",
   "execution_count": 106,
   "id": "19bc44ae",
   "metadata": {},
   "outputs": [
    {
     "name": "stdout",
     "output_type": "stream",
     "text": [
      "executed func <function power_nums at 0x10447ca60> in 0.0050019170s and got [1, 9990020930143845079440327643300335909804291390541816917715292738631458324642573483274873313324496504031643944455558549300187996607656176562908471354247492875198889629873671093246350427373112479265800278531241088737085605287228390164568691026850675923517914697052857644696801524832345475543250292786520806957770971741102232042976351205330777996897925116619870771785775955521720081320295204617949229259295623920965797873558158667525495797313144806249260261837941305080582686031535134178739622834990886357758062104606636372130587795322344972010808486369541401835851359858035603574021872908155566580607186461268972839794621842267579349638893357247588761959137656762411125020708704870465179396398710109200363934745618090601613377898560296863598558024761448933047052222860131377095958357319485898496404572383875170702242332633436894423297381877733153286944217936125301907868903603663283161502726139934152804071171914923903341874935394455896301292197256417717233543544751552379310892268182402452755752094704642185943862865632744231332084742221551493315002717750064228826211822549349600557457334964678483269180951895955769174509673224417740432840455882109137905375646772139976621785265057169854834562487518322383250318645505472114369934167981678170255122812978065194806295405339154657479941297499190348507544336414505631657396006693382427316434039580121280260984212247514207834712224831410304068603719640161855741656439472253464945249700314509890093162268952744428705476425472253167514521182231455388374308232642200633025137533129365164341725206256155311794738619142904761445654927128418175183531327052975495370561438239573227939673030106077456848477427832195349227983836436163764742969545906672369124136325932123335643135894465219101882123829740907916386023235450959388766736403229577993901152154448003637215069115591111996001530589107729421032230424262035693493216052927569625858445822354594645276923108197305806280326516736449343761732409753342333289730282959173569273013286423311759605230495171677033163709522256952460402143387655197644016528148022348331881097559421960476479388520198541017348985948511005469246617234143135309938405923268953586538886974427008607028635502085562029549352480050796521564919683265106744100967822951954161617717542997520009887307377876210685890770969411610438028623950445323789591870760289260393489826100774887672852918106468489143893649064784591211612193300707900537059042188012856559403699070888032966871611655961232331998310923225082866180321880439447572986762096935819784385927969250123326935194693207724335527365566248223787833888074999276831633440318604463618703789784313032843823470410944306591471928341190975185239212327674384990561563688432939039442002617530976850605132937101449086396141620556053547335569926700941375271829142407234267937565069765567475934101310225342830080409079587329544213551307302050171598424230760469209732907290141606353960880559202357376885647852240092777111489134492416995607171786298436533978180869474106751111353523711540436599310889697485658800887861974934357929246204051767246012250618404011966289872673803070498361217974484679100747846356194664829224736134115135567179291781968056053726484141128347858241259121954601184412409349782963317042002530418661694962318735860652485410222211869544223788289189712080514575141361964805369723164570564998479537657174548128597406077339158775332355215609435919275199351014222246963017013717419337504919295363295101115292951836282819191821651676455946515828048984256116748150367805267878662716999649296949377045794876146628110929982020737013330324451005385378551188803474148198665114579322684900993000236736168555294173442059925371965244997925483159343706343970371809611470323074186985035054722289027174850333368328300281132910841693150457389933183934593292994942796015309756118708918929528449074243284767006243171171622731766606796101967802204564589015899524704741001158110963633731329388356868949408759334176909387806398584647300588928175998844477486130063153068760070084837267527789777356830042778902772105683833021470279728595336332110564064263909724579949686162908019604141753935768876587992428549912151737924270343248648414247456838889541893241450987505759403013249697541696955330296880219304874163501097920036210238768275176369980977614979636096704348140124130683576879904997436596296495705459524735382000363770324894982103331332913562315169854410415317054193928234723398848453552173203688088312100943941434938282203549650281530751087098604681224802973825631244989331965296202372608586509050307993308652001231671915182765742095689513136184095412121473786311042897717861448158316965848766949554826252504961227044714712229620274682362909803877469376987358942125441792355298387479830450253909788733469732603097544156474805473732732767248652759034995336354126953900458854988683574927864615252040800490114785892289085443353996994780867471613519785838571456421583171193004117989440790268346357550339888086725127883577297626499213827436573992927302238792576924232785487201297255386071968303782483063725899808484638503828356258403917311872694381464553651690062530023217591343084755215901475299149215296944362366910833233693767993138209275870024246238331218236715236772098417187703860172308522448043176333602759733161201262248323085329288986154559221427378507410978822244729512663572225567169779409767341543017289268332635077451210167869121334465680739797372711461919299938118178827541421792926883790285430909942441260511945849237909966329550263865701114884142266162969810073652710928504579470861508094054577797864301504899958634164700528220562786008864025709432444254044034243140203812074857537999016066465520986980790589347320243050635907363821521280600041827529325485247927904235727598574209554632363830932428250711518801775633739811523761994686263270550635099851254333875594601540900862014293625673738331693082328854327001487476635118830885173775268819526360165345900556160767713453617655450974424979076063906093300028416964847594027046669468486593636425428625241644836652173922586528474244952363302305311413449332339822336551611431469131900170488226836525916399723912626616140205707996727383529597479125488961419287261259757561701592645823541151922177253919651034344793680369057003813056557866311011476313189571556336518727757991908862890765494952019474922148851417079252352394293801701149485239005844358329748769279941586384640877265901749104933238853465429979253900561311562288241147192158137210120267399648622831610430287268739840335142120299516610846193164688075944526965248570070554452152547493450434852917987512185973647190461515413582582139040172118295702327537027389787793506904044938553587650503557155872873201596885061331145477101575699375441097493374115991199114962726801718038950907803041184400075585468560976965669584325627283327416418044590727844680051360774154288412712456353383625469068936430902068216750459819321744513362913853983154560610459692604508787700304184579153478291725762810632722108035826060904572460619204237580363147200158749075361633785243462298769917887808671453928846572417223504887766803869453474588831907597355292800709241471370696647029530700507083091412492771404776193459007315206233634226128137074504162520473449597415678882003845446774388950379192344594171245510231738995030348421937088083329709108176561010708693158020695060096428352046647333361163476664106311247065173802510599409266908984046663298613648854871230659903565772327667696057187057276814394932559371368029375974604116075641599919402266794230681485723361363592903676841480358328093127506801111571615062761556607158236612268544268330274725849294875852089790850962835235527978491475563744318483993474633300330972497012808415900969455190375849945750379465019166009861502794606130794726898507849610303884846035423392175449505876157130344700415823080225786693300512126831846009510203543174323783292176865976076275412421892808138872880175813109296020150746331979561488146333412674896256883784351178477592660577212734269328382384711746083782209939646612308343952169576581065423771981899573840430315930973215059901371218399762585055435459516340055149080565627330475362528926945020226163130902420795006258931367813005222140742964756194053782182452833097021554210929638693005460011927178302761563505715735405672652524175925436371863471836292012162456662093642074605500842449347289830619506077570528754845277680661218358066130291463288932240701043887535007851997159198390084654596996197138399723495863749806582439384615049184048485819193560667125968018574877819561104335238420873417743385185735663101292757409280586840011804854994149478736882949368786637202682607198707656286436753775709560349718397405565505269425218354301348910785234517795519757516484711545928466003754558485470994737493796615841040414239875763335201795518644856632201598556341934286668912522153446348791218159622744525372314219184738770596659942181275403613660438538829201810204850917717791485256026242529802492309229562177062770027659288158473994804255067730903420043491632913588644627415318468517462580180901314477358637486528221274450661883667873545037139535563260349778209992416559111602097437491432360787879331015052417047437823553506205617017572175387061751192919715660363028302343819584946594328460482931960515124867123604625653903565173322856758210937541222674223847046664733620292824834065137814475367747671882220098389682019784216724015491253360436437847479770633657905418133523010804559958547379685864708937791659340223795537045273849435441105983887969741143051069401271065628507537039823308867819868298171415185218271493613110963984021912448323423901392553811725954153209435002954807640291982765741514042956666953177304003358701503703497424897898108939453026976878231557938158928996868766367603579055322794822757659104812835219745724022347569914650240636730492833286151875049129873457930874999488048681250802904606446223569562767964898914869924201946458521355165709887118378290437174375625282606140534611987395334677500936625746765638459629521872262777473480491233965194281353725068660782076683862565487279038020486778099991754380815789820825255566234983933217491493864966284116889874665005414748264599972752003370084542592544301190399041231752771993767799847551279448012913842034323154888137932524887172099381195722163148101670274877379161830968937348720168944903299658932511996504109653674618914861599481632040891930577238630396311858213341337110096389113836596895914715370925073998461682046426447290788976525593505136546978364603183820619560578517561504972661817649030304982138534738696212234626114043035600967042547012317360449724623287452575151198771801585742829389025650825988275495110865424704218337264023078045681651420517807418196096401513461760794362769612228126118610912766814880500950963889032877710837651051900076128058473969258768737937306664751387942217354694021157675557568970168734104342446525522568974329716152742558110503495045718931752447070410307760830365536714180388723602948872805590752711115590794756926903978519601939790311768070356801944936106850640568519290645048685535628256787225734544146565541187816717729850612874044620890718502108518025052924590359814117522720320552642597751984410742492179242039080014606225999422109717176118746845802673724801365603866909971071347255859723217027554055085082090418987534829222004178998475030519537179062001509333023023881806519182405550818672164711702307529922652228033820404113386625335815042934115143980939986416365633923620673874259342713444701242702722227197573203194489407856355511639619115985907995399083680129468810771595938084908111251938016414866250141095286680914828503123938960997659175977315432797173945762560365023587931559926170852315074247849814256564693008105061976397395591733545472917526739598790117477449217745771908169489543790314578152667389689410604588351445026130645637237687631129964576699475767340673583537218704935177320214779403972566532581731659202199752942824432778102107532160580104432121067208273876100778332426569624765621063126975491546224343978061253999313893915782008560011171319773443130412998215626985098895722778159524505640435534979855872234521991778419564106622122049039017886737997905270552302412002780864726282517525092332555378737792434915926182736151242592242725872699844014132567954640475742451126102857394193479716383187138370722782422619384021010896271281685732287764210298708895557148397743497418109849633633910397778254225179400022143485886207532122646613614487518735142494469575836744785028013193033901949738716163113800864093408529297729741462836142201120573027427309566658849884965134295188287937016147499504685185116851709758146686994243673140036992381232483920618628663037402351333907771907455224248515748726136075048020960976567862025232356273025557054386729189255571672396871991669651834736987440295942395220863481341484029838939485593327256627318194137735451891544384960966451285561476772564932516923822003229733483331726306200059192067441136913243720403578098676440894672367334549903905283682411422011886949265324531399323764100563996744273693606586851243936737155349696358970470706246743064681511525580772367129358691546677179280674603197443660235664811911175324239792271603213932690900431433572511935591785787438931910836722219749594385217682817205537433987939372420698422586002026702204502341484432231418159837133223467338185995720215212999066855318593765188122815644349842897804044474253173187198249880219056124756835053121936684091113613451740380400041281474527453687530122741226292549431008458868082627169312891414237466973215688306962596297824286828479758198382340345222708757345393897126910174835179971320922911746435455023926629385455742630840473245989374307836875864087914312319228307304975362481708579849870550314357368660453504099679685389802578477910419231052505144696885248726344365369453921372194715998156624454330562798282777349584666757018969900985110164491047993602922961645132995224271404908186948080818144765441476070834943179921347693205775493727581146799477819807044909830887802418354528095576268178221596410712216509995196961932368766959924336939018675830477951348564967496643006978548120861013029026482640402316621018258604172734501970838570222765188590393123627245232006535983907604127898007628220791246163222713051906678029644273228763460060289213316094057396003523608149487855784819923604033709243920895785100953666245538047118419834068589948934026518132741951749125192568729824877982938351710224389886834755562218214866075518628420508441240855088408499405226548535776678864444680504301285988469915501692621173049550268365498340637943341584797390666973271817567111123445212701138287733170703648843560692535012857745637166012927846194135756491508269323010063559087991831480179606664893606864875569154700860602703909640090514609360513037280984989976472934205971076104365706670369636731086616773064361333184164332104073479210775688703754193241101764488071673304176268034528127946729244452919161882095335945667158450941476301537032588109254921620602423998383939639570864268315557737923542830477169053850721939927266830567227442913752680237178175908437269780708099690192695002592421020485193953805155158663266418230452129371046840218806665165231438597498081621420148051355131865453014871298249938624272154345372391802215126115854861975398983110888196358875565793593310597895992053240439684590862193232015232257668969509415398393721308747247732944493053757577694362680328316055060353219685001207195191671426063364056179006218671604638684249067247572855764071631397824639188693789635247708232195940400450829593853651517642510129335911478337995658501766175785429966837417247838838645892319920041196390925354226074199412181950196251598137076467085022479201649174056794994024967593003129957099742026595785390010668925864718839026058417582396497109522944729874183273952292247592156943695682037477731049514128818431210317476600507328613045698141876738705835589680568812062901672389707603039549708273418484069037215179862266581929555420755695654139976814235027490594662592770986044588793675562143709648705744665319814772892177290937799834952769995145061157204394128687121538756842568036622321369508041915737469009917048039885947260486258684449762362318724085339500204989295963618739437408918888568903691128987832325892601331155260901131911962536529384643993465666490271108522834470184768391573623895239732781158399355178022076177450755929138381468526577309152290502509145241134006895661073761320484545645543610238773087594308408699782711315425513472058939339453013548135244176754131385012770024156261936169649709944156933541666590935759784775946468953923516229723673403650805886186209888123677098892944769654360324668874429740130365009770291603536426502844618046128137324006034947889707723262364927515545013731797277615272236008596598736693841467685030166103516988390995570659331713219574003251046303604196295276316972893990945091279545361627593486818455830168634280653205028729105026906643726170661778439311154737149759096116144493812106746037251452616271615212935043141124155849847574091878458410177325030553207237661933970254488335435069113577757765584551136714634629223114497809546405079026755854160954260557783406467356189398503160303046687522579708387993298769182986822970667356246647939653365454544268386404322650296028881298557242198187208040207296077496128886166773288838620609977925416822156713703667391333322086520871904473048593017466793578173830832406459585018177267447690376523178740142636502172093102619263046542112708094769682392207383797482057034793196525139221370199877543931178601238198924707047629587501516299912892933069025343575488251454948469328322898202956506903308470482517744131166464774750723477861518055343466858040987132273453081836794564364430155246274158100731069323080734901590517008753654169600998911569598454702926629374049393677685285723039754691181021469267219333846563053673846537824970049506209403506606244584412627902384242785280551599253188262786271531989567165398385428909311577122438618119724985644233907558812574859217687149721341833317289714977694982117227337669878361212788465289349470676995146785835955074121568375032937822352378665103266923449887690619794116574936418347914823983988002067649967289214983486424468737742286438563064425223461210639952418146166111391586408089740413945879849036682695488197808766021959964846771145698159367567904768112047055740602351237499012258567357965107013251562237843754994747236883821060645969480067316032381351192535148322216761442411144695361182838761115795911310362420741510826322048374540404146990479647073113428368300158247350712922331119789013179701651764033036649606749518628656836032556353205617386602749327417799524243899880581322620681297935615821202736455540414428705857131835238951742471239050758919353490570268302812810704750603181709274434806504843422134152201579626776393642698168851485545206897802036257496043584180735523092410264794436423951474855853980259367017205588767985309971043290404884467541701918912275745752402121744890326681160647837985004639864193645792082105266057503921195311457592621400830660301768120178560328650220171413811642155986702637531155554821958388905393544592180587272433749899242041542816666821846374863337522729077994208960545264863862516411718049112903451378140021506899966762080732651380427792460930762263446994159193223142565029996403134383564087766689537759857473403120477091886596355579944643688205981242040477802943803932459722207541739589596692034052161680837588921636048584789929663903107349945667027830610483130862872680661015300745521669893857383782690975026078691245077096697355744971063878379083608563324774011426604588797712843335089341752120843133549155805945217503766728136818989701075795034975931147113851177529084708382646930943663837851488798723688771534770333456570254004964039987760745951276145936694695508877796318400093229973736770518512573233230127134210937068680950264362225510872877141635601716276267040168996816287213326422268377855327887822310204539762272583014902609710931194995685950834598509258803363019551891846212990914920155838298607568190737375958573348261713794703592503972126314316192159571451081744034114847904386601284244643362857392442316767411036417557776991886719910511456902002905771699177497748359489810115650557253501242519595931483440417116222205504589671636754478042893488385500275211497526246421122010774862333476246182576597178403980436617669560567049936789350370893174617560282074679058110806280348893136768773133234721178541038289213080580369302853910384704528018344058313252744129928355732704028220901951560054449764635932065083760864473989692709381120504251266930834839999956860216356148940167442564078469350152730245749435722205009403680810321136898946443062041659878360406811331217133504960504944165472883926378607868385731515366373416312566122603235977742473940324793478740770352725436532455308438250865693864330020957120719122826689237609273524467576647981797622831709248187143189474449928329051087066866263901462754600186683583622062445553828867143621415773638244852570664653423002003386087185683387095282564231892337305827467825102905239214464117590700082862874915647212962223100149842773910585262712095702633425139069275541249925826898755913048489059083665047386569005980726512682643809800080768716889749767005747228285165430935469423701296901225200041775975278099341399149455675655415791289014141807180970818010668626000334746783492116354330741766556197865412944331579610856733907210970815247694360208231077377319255935591919361509992241851869762511821971598449396422923222586939583205849537600173388242916813257003198490942805178528782842560021549233235032941872842601109623432061485547579038802849228139397130979180562447703494299530585909415031237400213445431607049538809117870571045686211621069655023028886617060314580222884344906879404890744067164557565160596397488164744575409400891911083945126233990453364772541741331330821153758983077390402549739751620825837898384996200874749622331436354553599710472896396262914675542281735624665804212007275401273982269651802596130334329792865330063654175676003369688243926391280713123038760076039957285658333390838592534249337153070457471482743551037417147024006867419141874398230449202772009682282474640802779068104741602882613440803256607530230172031981070796893051954145239327661783905828943932146148894821695918579498502263858318704473290299790473193753803543920285706350672484245008920689712995308213747335255792982565803469779504974053329506220584586976782376547358092670753891736652401577525890202354883227480678961328466821865972869785592672826822656457577958670571097728396605101516387163615321918203652729897586807786443044896628670393188486921931839182927172554503767733076856308657600665342622254535057629030862718937364327448083558928220102374951534665262857504222950995446014428801859061443379679142717413278286975998259993819084477469775220567898395378570154609157695006128689610825519373486612568225010585752375050450503641627804406676905130564807191014132285063482665726828511933059433717373899623654715534816591630086838520905491060194596758223701911513581142071521220673521948777069521608531717477580542554138038978873716058241771904252401056370661792996395808706717083872950238057238547610495061732689587948240319569499000594593719849004104550034415014066154526994609094441391439071866309009249691812468813088126242358787204856089608234037677437509496768451058059579977189006605354903359961784245121096144877063187466910292356627771165203522647016166296488083808997887687769308220856530068153940856748041349469491870704992660210066455819832886130678021460369893174499939107231230405088342485383796742208847060385334943928147519685791292174441917386398739155908915859310750449419969425856920503891277550092560029225566028245733054164370482965351532695757311986033153861767127072322962670122480612322195488891848040149357757131302308897501348573600357134307046628157178720021578705983302856401851403674168523579202306440644159448586566246905477964086572462611834063213025126230896949713642334585419351128373132157232101577687884147986752364441711298472354763142715850293434746434127230225735792097083439910498394019789979870351837786010778667226102241684498686398874227580631272581474396676719404444290071284914286251867085092358453277091441099575357659812178523756848934429670368686181229928033433456696493460770903592231804072849827640955873854491455416480621098619090449331761288966135325413062313991971462332768487224184119088841054819270878948939590681778579588918587881426099241767753862382406002451821149035160124492893940578494055432173589779503867792448614769448734671863583817296627073341404027631029821562303142157743379294616649374361560459036060298581224576085252700570061877609582745974967405315882162695982851143006320897730473133461172142945805407178876223011462558510520930761771493278603541262719880522826864107055049364370555816945830840650960447321868266858216903784868032280479864021706315653687489290467679015864709379478762373013822026373788822827564163725872670921602434077279298565679825234946428376162918717556993454693724759744644374586123577768842647346924365909558553162571564807969034052671504760754742676960038255814034354716520834598864538432593908154392918939089896109083521992519053530398359081516289247571043354786424954980741388745386023113329591390636006694539437438690759589121288758007804082911975207095278133335550232776761783391381794105109412999680430103899475051243232331431120663598726618610084717254696908726637456858466646162093223427680684601718516702427671125913080059583053658180035991214447685286534985397013876080817020918472863351368783745251292936294373137797794168163130983688833624592488270042533275310174037401858155192663147588032450316349828944090941459435709839331454077937638533884824056964583661906580362312059760037127664830995125859310214290237306052000883415749724405028863402500028747055233688541068593389039662379913776485715772093749681055718277781429659244251666703110135820625316518906936462663613376783677001574909561444962828205690820330013121289873007855206280915035880334071746233511142838096550651818271177825964147342275885803162473648253508879276299074813242692461714169521068548818275361612786955216412383263246164034602771053052217127416909831714425842754359325193708367920524870186212708574531518197079797624156322369627530303625010057401503185241771381716916959066550480494267473696656051819527729740440782487416353087074803447126307550453018768734511631260002571765708294113447159058326859464022975489061868569715529325333679192904509181338989039531226114077604146341395120253199068720690450654317360799352434791082039695478061926453254644053124586362026016156957888326419910345519741792140396061817459467332211367113051675844970722080638249309285348257747082754939860608508486386549912912220391895379332321814344998458680557267915553525212113907723389037979427485209309504641599639196053296030292739274663906234190084882219800040754390250718430168480866157009022053158273857417267902310193566064243660834080202786392263652453395504706244108957791049298908397097715806857036527872932846771952274875201321856644284239116502005786314083266606564469023548865452436995428173054383481532525156311603438941440612599662264959878769003712412406305072713049361060777519351766684350979095112470377728527045181653556285621656761979382960837252084759203181114384404005114613990326273362146150667851880079327563486444803726963278475818453468509565365380723807736793526242145533088833679727074192838872685484977387306670007551965761431583941102042492623133242770270821710047137152167948872468741189259805623910487138975034203376673344989060052111727844670530521327425332189734978888307943626099125569741350839434061750712876445222039557455150019442996232739317091487905148812821582894579949748623433452865460274945133477267345362799684706610937707688048379567860499887327287273158785195505216946986571759372875984514994087366735699690322212619073372131984972873714823922056361158276719293687517950957314775347729780073870450969204201405641649670458849057466793682155521901095027966023590200629563426621697556166261956721403439803621918243177242110484823901622121433246394511832190737036276362556947535372619436126996645342229589006736952014870393865015087074414735220220770411070088328030731545041085721762448600324574529642445801550887535581445128918173686346116567111050151109714760544361537920207546115073529167935359803746233158035402507293585422134950239655004818456256327794930441926282941363007224150758144477688955569616025741423859274415740477217643474948663183182648210083785749080222199122144694117400270856159095104885845967392332602301843740328702808569782311182460392642129024729192535226787567897868564600570545108945374190649371558894253329703486982693386634574807801078719254129784907155276683405362407228975018016417486695226639468897799829747034414846605232977531914266638473906810541671168066131262918834764800639654762345192540580400257727950859061817326000188356677576249635084512266410557551645134470262083485480776173701923626406384831371842087477223094467978661221649689842322789248762605167898686475739012260361067924661728390016267344059903224026536343550301552983264519865881303942586617734987280231892544278016113318354276103258002393942607858756949485119300715853929843163967575531352484221274814864027297307155457109423432471856970523635672286551516265672389248080659279448953078708153606666741314598260798811278754656313007785743484189610809499119436037561075326359414143476882494692530787790693275290895909945065272071979419682741840819830567497688086236460819345623637702467815073133466197923119939117195979352833117496820500577299938566476984260815518940866776320855483159836188850448339911351505132909703990088919063133375804094886955895465912648104534621430295733375992898959329664444686900648674531661878821297194146191914132978673375283702995190706179924178140249356285006536273771636355569720003246996130665282451695167273161831393867558791278264933758040011059211372270839123518459709107480669852696080909181872978501574064544548264471078633386599113188810137746318984496745989011540334259315347740082110734818471521253374507271538131048296612979081477663269791394570357390537422769779633811568396223208402597025155304734389883109376, 1334971414230401469458914390489782292245248507606277355345627993984127414621589686952230598025579823323914988942541959052433242887353708302078227980298467078317419297388487577210620248981096519575067054001772910465325312490675422508873342629571008941299300172233033166129544456836299498452579486504015455214736381320720996535676894694360228291194432615463049211300257964232304885829543477013613818075315061582883126194050165001208572539105257562201075597764935807748345950664391476350300829536533954865604481712000952705040802828803086444633043581934923374590324919554932537826905554625625590692180622662215544052763409466806686491366237675839098734020890785176472646045161605817204755472104483660819671374479918226442651928529699886492703878073655308269499457937484930238033529298447444330559239765931523784102893721522385100349875765013041292735961760057803041619037962983029036248669634352989239149891816904337162043455419252203824918094726560815100985838795186158194775604404398151067087953994291069425659662679592924634171420282969493446530433701578436113593744094066471415473726751978271764822062443772974953113631391171828465268473960111002566419647269158405290261333504405721528773250558502655312168986343564871064654334827513005332648722336798578355121274660610619989132683323691989424982157428060948198880446898655750177846292840315288072510346592430613004570981518028385553289593498821833724114527495691603695714743361010656708814466807351536259662486169634113312883567962395107127472503411604226274997720650726243789523845665352021965353197817949971262980218757257539566872973761855563572716885311398905796538833044827717894830313884213574810085098565935921766781917463457858769230646231584554088864174529684257142410973222364981754013483989187362012791866850913486973619495892038367481264948454352230578221003025926468075757275781942607171815439354828704033591807492330777161530340011793589361924475858272465008394729371715225666239011244161943950834583986014699717468669325768006393466835431110049135421963635094516184789296636019144432104158145385345292389705098765967988961643776097685092171868220536427128815605122608931134394917645728564527112075649899243588509896189777871982262490841773371456328228070511796012591361435987169167060397766847890168112475448921055408239074689441970286447135211653933201894014849557457175928887169395024947699781420857279416589261535802589227216947994510155816971487967110284575709335449414531466148782731280748249177568148307903598682116226458877966118010581907754637665102929077119971106269742953417830461363442936343207405386116897229732607716629962790290594693258720290527962515742948541908629615920387702713284405532221912639580505793469912723573986150303898925012730461671137277870698134139263965445523865220175972182387611873915865996620624135392135189186455135783388504933961003198446605208670744749144430074910090059537659949842997826728577039649773069544827611866775654363977241068139998392927045274816936150981339110812998567272500822776538852136389837011510821165870291520880995976768669991872861743665353152080221603977438626211594841556156961018093472784135886679204847504736973577572701881274901675093146291295512559499014194658575350647158102843413403033425379550112043708155448934828126796430034070254614926175843334955344361658677883825046629445390488477556467905980634307147917907324010231216353890005861558147227617286591360275732301445463313637910694474350784977876358288752743744917071710860242478942742343555380167160020669574515042804347145645311238456912009690317832988292741311999586824327799175771292478825777377168640034704639941266192370954227236366120326589031417286377768021576590840665892680664632681784251536537116755694403061528434185795186272156157823181748690549821774389536705499592922819357956348163071869600441148786972830758543218792320712760035735487848071421875243850801279845349105735919575654077683747724406422193059014312198357729818265623798716276409298152892342925338687735996256929450163104572151175543250694278712081789175923413177907055910603419879418725138782466192194904226294595706839605932337431233494629435666965049583686364606117955832693410338097499893749226462735005318561754947251821546170560212511414795265777096314359463893825534890025072348400055644199798397611636958589582563067615424314091593835242358762107095442779316504216289376524565068630770721276313070565709376560594483200535665651751436948980869921025907786078137046932846589812705612354604487184488685260490200182106780784654472769932811968492232580293770486523408319152137170374071112327031570327514487430519488899412679202273838408579223291985173892372646001979529189578108378568253224106601970532075211479622887268325989066909380667955039896842672404971999441620102587002389055667070810316786601458582941570359373708315525780401241430070248873028814945256938088292358742142825897034099721468245941508680776118231399033075823229975782995786573634849303823731881991490847269799336954313521778061264155247856275391133217083869277859968305367203603243060441431916049561622118488060739932131507211181330867378374445243455623413727351709320166464044976545351704283150699231022375825537628336479220766847067235363138006014269210138899285819059363526419344006775798309414501256889071364557285302146843458961506093670297695754992304345921355058028856519718292323761725635880694289425076487342445695315812775288676062103914113130460488508342179379733036171284449718598715990690132317169665961842234909776670587288821661651139948921457487140834846076973801304222950462987736722879935444027072023810348225947940777110510001464135979640805916403807343968321570630503925633381716828835020375705574656377389364937064880293449265816539688572542746440669831417201261933866120750641748439942962043642095844763456617323382486196973466598102625887906938979603584298098197819580120920455693582968111829771718494619122118702622550154721918797961233337027323086427168954530599802817401657993469292257129487969901266593493068148727684217569536396446003325841033372951726657461991395717075752708591421272561430474973178770766128366749967747395266483385954293549740772649049199110666689197872022948569545812715408353034477721529527873023680998824005098060529330768524842394953639010703169832569349927560087527143968841152415316983513420645764800160191375724639891780048389082773506370764046017729260091910225123911481042978949273397328995404278205395057818617768084014464787134781602124601084605012871297700574201445739342571183552277491469748937919901140789087246127442562151366389034300856887396486241066253400695551298305013025073659723471874383336569969179329352183313798829219219358066632512330505982753224920270949856479726151109895867734980085820139985755461499965593839522780861704845984691938275603857010557233777019565131707314527249190229555925995739887874368528401134288590465106556858084439165955819325379090655701524823432110002456567585197050701832617425631703221938485194731029800855574247937366330242905627862614994176164791763750804489388175533079106428733413338410302920904266852403280733781724278078904844570901976823804622688735463969881994028929873779841027214400147177492414099043144303487317973521208466651501512232323889321698242428007691723410750386127620592737736718528743285134223275701064206075887970918872031381236106465958009819553902323352561308380819650356170685327151570800176776979203356858700893316588686835813326673994567314913372820187372659749670894631256097316035668412972854494637229461195871175072913002695871095217497150382574260579934039999333442473181251448220792104523932961770764239510061661516371346206436460008186609934412376199854355562969351803923656353243970817005174985773831631398589370765929197237018727930912874143032652342249115110905011503964430166453300520234628518602978166570811916340829841076021228429475207292175481198462819094242041167442560153996413406957900827965574946523786905664663726596030049849678034290292471738350864091231287404425008055301288136396265730484663627952349003771285660691095624989718141785508633268943204764197976002930641435248038590880978488813919119161940729099965902931480502232251690243453997185690087537251397360455376765495087748952644835032484979588203952955182606879675309648501881237960123432795150063023882642195183806757425525678493322717101191371791385608432555648481983126822468787716619820803216979605115414238696910342784114105036100497376182943035055986239697994598850083148068160077637902893166873547164402114027907996485157629568445962365856761019422271838127722093204315171822017816947879312788677431731050377520062182210827218697852645534260696275069914448355726777611906452287874696914763437063897536676743607067520821225192242367179732664698603172296992537020357338238539474677632066566306099530681067987636822044778676790571526156752682098054008060114222048648235211088677652001733408972390404021234858733749816695639105516972681950213496564480918881121470308245056746614322544958130326224783348722937694521517671500544045766814081079949624060064148141994717787006797204280361180807876033049761456459736601225700682679513329369667135280396122391470910959848993310326370227556920372559598254083126663539278398534669117647275078081701776010725472872859706510326074619775290538573540867490363049236404542295177687297794359172552178522669357542909897340384086004138468924550754779156251358722715250078273456312400695475455417163793954731031875487316712914778226777199482042666876007631559282483559334130263484545101668472943337107974636189072668256721441101751960657630930579890571217013133779253750178886234600715126681471192732194876967974705346399942370828057595995901383937989262757916239301838161298743259102739530046115969689386067963504473841825131009263570767441844543498822061018165836221101888304318773602442335093044825332951926863660605860472577128040415789564658658760949664374550506483657520073315345872056924398120801950628759949600452074436826919971909683723140105806643040993541984696276659353515432883704923181750655292097082248942588369471655705227541285556415724326062964837770749373508012224806049763276210296913460315569722822241233699197676158719308644620420427399754206839767806165856149922370255128804008022894158723967534011470209293187340825716985586978090803483200178017155619123489584114366739929326163278379671370047745244869839433613663700756819627311904593632028673791092469734504709577625178604490022911775795635903527757590082803960967183621843334230396544679823577178014527391971507748702518305350972151551013587087843530024575829383956735693096238866790490928507739221629097063537066753821854932139055125113294075895205888035589321801553934686763162360788250393283287044372943027305965891770745945961986889133993939743871207337620200744875931142612339641944343171680789114958909236457693564727435886892140251185446323169957498865838357163507060810461080191719950542249186902301394200638270687404668379284242491907941635256318203438266891431268930422504844897599677815094683423460086838946308409185109218099582382778552584415280973758084138100423576874873870063202171622860532924077368038411226410982424137075153401511388846016395623440703728819399351640978516448071165407640197955386458301032352563028276255683153918357929629511204173057220830247093435703558115446149165108615114093718422630023156158974660742161614974080012659585301647749464656263935203569315114255688955520186777255637841729090088965765391872491332988456224961131971497744355291077767439804729220014482176434770117509356056419462005900009239209136304298407829604290242657099708763925121862278252306625756119750536758862668628973742695147479212115123029472181282286710958441680215133272578877020481546096934469554168091733460041143121617900951784375132039419469898821550045668043572570058493696157097990107188854285061406445356389995621965348460560570650030339594584723095149407512722475608482151421254532456705921344290329826363050666813741835759679010264383183900900426982032888709346018677367132594027571972221169542794074345583767463049532617665122373371521290569969371105186964800645814907996405338776139086310190546246384604748323569293460804330571886015865425563687845942211347686287345635863307441088145681980271736852356507802660571900537562489865889482887569802379094531316593700616535181265500877371865757489891692168209095013355949291124408538006770680341765096877490466381922766715154296827892218583851693874149152110945319202532501928382041466301997648354544173124414276785379652672874408934111186860872934076769116326310305732334678772045167997727383062882090208828400757534380610661377779325757078288356458428699838750743772414090234001977481318780610305357627821344366090949146786132210132425891844467997767873041828256234134043700919054596801357526093064192699494418046171274298296195482256954114655258087516722549288717090027359157455511851879040894028116277760672092385187083441153913073399744820306202713403415904767540872551716333818049110237976661040866987004713719042003989076669812744369018276469014791033171905093728432055155381417432895035462887923367878601704343805356077838351997152545875788421255157627568395226659972603450474196250982782741797808458813714356944564185599003224127949094102755697139363214826856367043369818010553390252163365646914562627350978269530096557709255865404190216746739329725367231970886697251809550069074583689069963702589492158734307597497699707240133463235516390446129797480719429956128048268047204543591754339902140829769117752756756640254603864290026766465198401090708487168957345895715796201132102446646179524368273962995578705952926635889671115894074874803013840940056804092814718734811424935001287568363352795557117634320149385855292209893075541155185813071840997739057109753026713343842457980886252867656475169859262711808274714294265796169504741796771078411571101568895566017457591608068423270814491920693553621543947420695982990619436159191379982387433106219432189136024006998634670840250290239820919458814199528126261098417860012452987283692318687902874431525284765468127643263104694648785136505375114357803385063650315850606567846223181757403184796658752831883482810099060965581175573600595472018972138870821704012188503589089312983577901121129384096015468665635783128187328247547396747703253167227848876375857098998250644524199723844151701171692547094345260705984206623624863025200858356498534598288885818837182768732337668791311668038065979442193089146448693564304304983481163551309921965499210282675806511346683589743875951772396657365219736195938929189194913603866951121211474438882753954283627685242299440002613473364208843011065437902891157181211306900059952190579781528346718337433070426993322556578048312559898523000343858583280211337001015551740564264887168033010324373483671489968825181607234395739483635473279714019629137437578202418402058472831775487234858953684209982498667100741552753960325361698144484766664097607076551754060058774146381192304836105880321853493984110452770827328015864518496319676496956772997285799067041881756809265780912475959186789310959941289091701276481834642675289237448850639346852618609404078337396010229041892757300921386637690046184313622092221004571731137121710033141949954712163519339774123876111514393465765745510617938718061718075427624246820706206513097174359222182497386901690780116043459521527451295494916371150126127885139936344065300888982623452532025961059541282507173548650339807646821116854039523643552224540017131300827038440753838260497817848232682664866150108586289982408576346133539639866204582603295916188307956861878979055339735816572725123077564389664492965932299327201118749922957311512039945521223240201861614795865781594425764262395505015459475298782119030307421574784849733256742420493040822099882934990213362559023986839861251517411493098541675438698612026504997672910042387255537044763407142603011627701658521544283806126507066809950962108520803801513474500628860129489954514573546085104019696530355183890711495955419544606370427274555802978084170866637129346922858611243000188133689238314755020716365649666508015110621759577720967578181249784134034218448190735692389034624789472600671172896533826257211028219493366440722205798291768435654013605110056243057507711873123636454792860553176398094588827230797626443615594865959218733721025781196375310351493917912241473013174855023562893117815539149124356605759549840248861429381411723105462164402703546998388349695403696882508852594064809339383417324335389995539584184254093812710500587943739048701034495377346964389985825257487964191243854980597731248857206612871044470780926805722219296644192414994538549931179642552745230707990175606441891527691676985823569517470064246515580038792977159971505239545187950296268445347668356088358175268298542170324080258251052505212130324032291636762881382690112676350744024786001193644440066312888995920861436849131628946153598900904961473292756038442260875702700876644162725420497761004241075375523703620055764764356475213384930815416641789093136407479352494741514359965132398005810050079712769278701727689982477311139253177662136649692334277810572805520893816077502651147420402118132997904208582456472242886685057974350356110556855192226286785864751129169380389439690087480943060525409115908004010113950206090900969378656405543377315866645193816357106564158210465750261866179310044005277701067186789848315372571363685516542670736721011537999881773042328315088634621956576331966070344901301716581807191286317331145895762130744313640384169651038385703541008799677975582920714820854722708866931850351350029851958455429625786818992266770515600651254611602067933969574648863508037785770666364296097069339524150102800437604862854592151492457145388426208639847728204236100786249638572774088675623239517270469309239777469024806416658384077153019639806842817612152325792161745872436694716543519436217788297635939709843315173670927681373363383353903100922396570493794562403726930398411618934668119866805396377914996271691478909523072315433776340422877786559932918466195686794466251658392097879912883494516793677784684198236322540982011084569982338042465451659855086246532402212464662527009941130185731810505052405688440520015630986082039730072866229271187473809869197967138323163253067634500736798619960092975673439149898924658486702001134377748096002118274868381123953640128778059709218413909757349748288493276267746224501766096505411050408289866608910472137569124319992319886861088629188556821840130556677908155742753289012689708898307149974792320133471502874302822410908046685158518189515265220227900769119780816155189375637470882563130139909992351368113701521646419453183387428480991031040459587046550183398642182777637062259072406619587993604652780984970666912030303214434444321321766239470602261647626317976250111487127612092867735861346773952791956558828036806186618127206715787287198240429343926529871974315913657619769004519811756418179900214555051535427409144731868451935941468871670221829870422733808694048737363567912099574378910420442631339471531232807924249749732720161341427597463880338080959640792534963010817410358084422994850015064058820199489206518347466383359483280770105018531621921847339511383187183239889243052196617438290925375271132119525753066641739136409571872841863410203349496192991324670603736500976752243241931040313590424279730070001219649174600942943688899079835840130919713079116806886915454525352963664133638797925409089588832047730124077626838143777559719800894492428955279096286610504688328201094657108127577172513768767077194234423509311399193346341607260197959316880115648996854247777828633365537709320576681405504969176366524590007205828196090933494864126583286143520105724897954678406661299739368381425239117708644931135400417085481219089014031843159444277889746562405441482248170799873012254790984957112690127547893716200236210767133267553360771350862894148962964394751909100786999734046658117637744732632795961854690949579982028712454663748319036815758012319412132356917867673036751004001326072064189963810228031637649922400442918031302927258749151728782481301418670903190942430586421133007679510340291841677718318755417340560247767747258067650418632125635979996798615403406706273021972196680887467165083548016303675978533182376393146654004780448610800824932670509442707049388274701594292650781112332094436551853602416449735658254547150056675272834885850149784967702015607148451073159325105059993407214344535293536092775335609544314000097261650199145125224831551164553028617070346672356884691139967780317031799038685125034743719032942793489103748528612157226093386802220110750761584119923272016086579088419862856640200511667479574601599566996463307939622331417030043620055213869308786035450540037074045654080958662819994053555689636408974942322351781353301588618474650516820023241884820352977482155348884525025216399152374522803095623575469793591669130415671350376694542232270045219873630074950092215548596169575089766048856734496377143475965140894307501167379775205350579292580788753326484995280622921632602019459094459083440394183280378226813066009671149119477851249723439230727130802681282511437091190411180891379885307376639730376005391482090130407182429137125471451801644463058380225554695677625205284941743993650504961490065966113746283950223401372532830392009432588108555958742665914124116499906385990212303436607082716886354711299235004105133941933078652917748445195225918169240065245645879761777574928958429243995860042888664484033028238787786166321636395058928056471993461723660029959522405814331795201828151402379321357446135068679691350610306803008671330607881763276961857801409774291401568837918097847790620066441037186937346746787289080616740042141483763842588531195434349339358802947789907959825466608791355064450035394775975215575425922677662314385015197797874182914928817645151068065592895536398112168769135024151146785931749683968052429338768205921254178788430088061985797992703403545298591021516024663838099027583280841266573381064501484372918215357240216975275609556629219159303074689477344561215387172187040581804115286660768140911201903303394067377273696317489248675668573119133497723484237905506311808477837761104082747574946386080379525764030351048213733629343235587473686907307904953032382441983338176649495457915629301057191299578381125454483223008000367455780353550864040222987531173669639588643518985580200713125621038174570991028610240653383936036338237437888358206313821063583676986839900852718052990399017523418968739439371422078768504955632055548252572449594083357047530585211938514897171375977194718314655506040121236425336997664795152117107299730557750019448291649081074366091743420979856412891210938208606521958820885838241030605187573672314048064857383359792781811086132852250016312427188032981047243678601092860486303651919812257374026921998285552630639026147077667928782100985230246175473606184569475041675429270838359023094084664492985495895971755028727550358536616809647701555371221306008222690849751127278960160822029647151370520784202562625621733264422550617427081907371330110199384841233920716248702177378163660727218808912437214559643631292395464424071131155221930195220976064144138679332063156886145947243561256448395959791294605274084905104880210847460156505326764967387916743740298922916848269278556691477504326328206509031560954412335434402847913429206151929686982774335583344437930625231309250662025289791443809626167912903011998039074847586995231708898245027517967907112959567211776360598984525501162624353632650296204664171952366828872523719359750150142240565300159733086020451503542199742092708278573846446982452120435490887489007601803045744196700502431059251552039000120826752523970358392003313060001867220775036462949245735846674199253315675797060894821075289755273551164126538667829315542278836215328913729590266360335628633898551124913590364481601667685400420850385851438278848207233433885394536958941375454577381188862492985489095328880897177896431351871847572181535036092697486731722762443515934561545982999881599582205066220649648580265278339118846857927906635498626353315347783054913279685797307808524342950770120041981198883501863113778911907217711330545199357052611930051793878471831545619264670171350549386495684024594398421764903169521874121945622398579011347006247078199896408496556111853211014653068947904232238625298753039930750641071406240724607241771760064391460273907121999673024469575771085197803088554589962371555874367705949955443937848565121287291503578206859002575761781901563775828878574122937961972665412924074778934215034236536062529092521595432065675153850414539543699351631180126604814086759633763765997321923287430191846341924661794561102130809264491029373194610976700183344442157011392526704325040639558688993915562408685249655122938612439165630976437032158977171594728293054145251358332396615066845743568763629313764868876654901272198538370259529317057951366649871084294045556061162190867467119804892276998565419082020378155707546213593028852589801181003106837646791834690866097483151871918303199061660713700772807068135624472806883520313952226752385631930700111180797033967249263113948752981484443868320546120070824125670258918752228392673865038016089268691464552936468203219616313617114815959425943785159500684978883247744812630737239730155692130545945756557470492834651599657089143364402862341137743313613020685027664431428228893595834937233966625276712757094813043478139048028581617702019495630995629027247299852568744322496522543104173528217087931227949055794380964082458934399611575360556807460018043150819123743454166727456379749733740448637479199062775120995513180467012679477822578945635872178010518605686161034237016978980008059237034645358577800152386110910811530732717632547615910191580503657632116102402371785854818503937080520162107012864528008139215258697210494885922890943178539742650051849713821287098339339611565505571736600918611171843511511941229690040236919210452759577504592082842873213335600260810927635326786973875035528006024199663023081042219704613767308193391136775359851325158298799144568092654167878829519856238033670909284759814870995329029089872951273247442873630491126996923627335521964719196707029894776361895377147013464115065811051503040389950261036286571409341498657123513089249862530879164262915499203017584361644583787023273781065754343230692374579850192243148117435164598170148857191986478147227408440060504820196493374954619888342060284000728458897595214280796494157390443590958185107336229691248882370977294538067743636599043806167398580279712774622969588560028589897113661967225832931146118856550898099990546606755529928428665474412472328105646449395707987071534730004167868983073972420068390746818873774034825020143274409376914893190361287518099078636411853552560068719331940454554800572732947277450968753478975802816097736939569778951276800321759356267579003141213870662012094249264616984710473820918543679144529352199086710746858924778792837126298818317325605976841050298553558110953641482770965019383595605831688223879763342318767905561153929073960484010991526208106417642295743666865824337030577671090002194514938778338386025698022853190259682719077401842873596448129828270488486232979527623874614141749602252542434703116187264096025187856919793323879263130015326524644281951157778140005889600205078702696922439283343601121363004538993099931133441023392837370986230447746569033277242600439688563632928302910113855719620263060155548045706741056863100204789452441523283292962231826790824167596200248131930117745187487349234283733660524633519681171782641851670308834185484546237915293841316601625815800396177814925591322627353090399848197299607342286970641879021637040590315675396497313783515559383963349532507207344251311769639243385175875628996739153017634812288813367227247285527892974541751089176658639238414818831789624145109824432798844343395155404964731132974495256415183762581875190525281342862368513341162765080511671107507143177994819775796941668937457374962270590619747810139300328552194494112202576983610655579281289184105129563593431089000185609736850070005093354612691414673956801594326582442102332383818710571432819666242648315975293334022495931852188578425619115748858504830134932954371084600382563230160065940554105823279020916179193132888992518444818405842454323327473748329973966835134792127194992387663637033471046037786169988326755196973824503833438582787419082915553933137651823695828254099738895084777394494420877133785307361790247896905732593782116934062831393467172400587184519628771418158102248834536347782871177099510469473359451731170928917516047897438488447545743423283225330462953840675635143290485131766885462992746255839296072036610298641490765339843032922073845012386977891132738180652847860223530979986250672542411242867895598837215677901996015912144689582860582271928620808860512098466932452381434724556532978656034077725888877184395260645138588087239796713822492310998358441490694018360692783956413500211003643892886901370281802938670039980417149939240293638477582108488130684110852267584890400146785503178555472836626984428311178822119196399136073837253415626590406976355749782039179561144948037927206365340301350650946242722393567209621932345702640244563024536109986196362205631381395700372301591663500244192214939175603474718552232845850903488169119353183667537529374211599018415058417214410645447203743123755899461209641658733572616947754603535671697755100241807724155475581311496700289806300919428907756285219925460251924651856074821852223029266095120984290010551757510188518626940139108326004498842331851490186380891166627922663196755639970512000090403605234652979719135803154992775691436502141005407057980974360716679987711785205492196701719380228193246323791252492461152273597204777669539513426299061434135419876739265674325385992675070742575652878089488609358374596418949876375510587759624203300964978880427653035111485181197787413545426011723430510993283192106291958004349321968984202383353644613030131635035811538053854624735548903094121675157741016864600304708385234560593429579985836112349945735938447385757927372469320331855304420068077267518870914214106806284615437730153944601160505658068198526769878438386896993126623891666038492647065360743169401603724886663452393555458413935288895196340480251150128316202433183795546457552227261929844106612901709708748011170299376010437366102911930023367110881239910074778462761751872287650662006006808043053289979348777084287275442141618825959477480140602052294149951265146390254488255126499140653938409754386490696267098285080156983849831840651017267744433490700933817101634133164275335113693519663872873908531919843803069500877608598702662789473888550335727672198376141149645240800296087348970258631577932596719561609890843696491646765104388499994437610418001043008902469718645148619731327752950459496423173325342155465239206088514345121481760394309393280437634112795762031330641682680723526244332601844733498323723454524965098814482462918821952103749056504949317237541234189517744818019030194459190722412618545250780780247843485778196029784840046074617444391116814748773021520543180566812107814850449610518467588378069462111046002272878199952187399640907897478698055857964615940691824857729667924565243689789003677917154763300017359436760658372765408081975682697828731500307528619098625835934576051693216977575748980494421099223265528366940611209275588080911659101394874037084079362634848107957039949090256039705859332490052656255568199480633684334640996841274635017016338182629625859795491012942444691815212552251778683893481948739227585465634241938232717355174172100101354812807654496683550151442104976046653954496593111359661525473625424910481819550503337204919924572707399486431049640483797417993890950356241538877367475058710171031520081815097027434966547220751203489441739557168600197078523178617481784971637841142358396140008823490381273672811394256395399307801030878755225463100553147543893736714545810193568842807000194011681502045204570437013363093629142045868141198688360054268000047064815474556925522953025586312256433869494451352664677788495626147527908081809605138583284929217947202498864534294622856474696160493298949526182491066358883233820474812827936059676876885888739467107928331385364082325824002166105023571583508691567211347205550078134079327292882939311100703926282141940312498207021043594038392867293015783535483255226186673845346752138714351869517509536514272358072087390344358032244915109707827207087083963016506583934898191497150362444794837279772373704299160525214383003594848532083843879425532950277807375612780562187293188391264016650282948101258550448543609374955543861862080475788935104599114848915803852783556204081055657535489710299346643969292034147860951786295391598528941049664426364529451060728376394863509919490177234879430293830873076744436728667632418135050052719395254740980692248979741838882570583745256462199859854936426459242661225990104797681694435890147757066346137596539593206017751722928090234412823349821491102434653510270289574973582318702709601453351575467408895855085942613448494734043204898608715127092836279927554549576846385390809536894706813483094675141122873936736570477763322773586289709588571720473255247886170129637473419219223362654036505696129470884244054315855950884626459674281847485176060088605533730930929211987801015230074644142617275051724175078137121853477693099775722321083083535850422382326810835868249179974292294793476154513821433866738927929847495136655301015044868806486656779276356242740381745030924928436751968421860292398681817864269055380149092636558003100655097787862166725629154897423284295637523352240998627596215079217847656885380389054118579280810337901679893052059907020399153339320431697480152621724389561681757130784439390686957647903281005304331233560624475172619162847466504782469236485776213740820913267429029858632924070744915006006616281001389298412433572624734317405722261215069048497915771624013717361352230000913200195972561456316660289062889855852263351351539637071966682236585444117250616678311486131213831940318307404188102288497994926817517898544552841500572186936548589015588721185770253632935420624502401333756629452818575354258495828620521393008253684524890279863064051586172343124094499019801125506784880467013015059144445276717988489911656089620699452816168459186066375760847837255664185719140166721036615016965782834866329096852017987272065220412315886335468601307930859215351319013151412888029716025155757645225347344968610585171993294010942696817433336516178990312805993625970757830714852373393840874336026283211369068089008740461183932485278212034681702380793139593324763521670800768113266696348723705050065080992993540553185032795690463664020352380413879898613725583706452164260175419913298945756897093744934260462769556112055492081893670072323456066761855752727199593164157712224547615657194245570029971365434286530615802319586179420259392505776110340080096723724202204114428225232981095685597200316107355005031772578519352359032499392533414226672932949261214093066788824280089061359417917383057560441712614873152504456519714725056716926175525382162572004131735524725542091650720880468803628723813192448356408390907865359957596628058706808762385794466013335921554721716372543978455948367212043267116545721152302152852701156379054240896767934249415528333709443185012450312662325709355214625248871129439116060622626324846539582713062035380310217172192127419043488849668690876308153567209774671693396450073267532238098265456223096416684324698284057906249453846808168145948549271112173145642207466751751767099708542407179562910030917755116685069364845011176785552111100154922166877245448046069769550933642973303268648715449129029753468823955004071925684683209725980513088057495644755051401347215465397775354497685141930096860813848288605216203210115860818489311883937333670714806394378732314112388707147092830759190263485449827165607235847235052170174092911374224725546852717532549863358825881173401027049935095621842982533877999701929257368725328190140044426150197996217080653279826641510881247952999590757115104691591938882841209330103449465526384816447806864585447546400788317699332783865138478383946424277021081226413832149846979914386232866986334660482399547147132505208150693621309427505251053690033131987112144879835115311296476640181881141823439296051067881674179296185218032853751459485510172532823224132640050660090851946424055332485600392173209495618738853423527859248422156116906269488873017328642781403998381669276067325675551413849860264579658036927074454630507949052357667041936495647107188302794830183096304390663270421396138584902900391547612658361752615201024522630181626410257928693798442691888743590842620845284687518379289239762516102952544665734624414903939859510068504959588779167044190353908984982685150529423953289203862353210044216453884343704535373348441797936499331203201188199550106567121151485579947124946747706294628783094768238870476433208050075366355169303104705613379731985353001784583127814523254098861156946296849752367392855750345754649212722641663466891564922953532802953494669624614288975391411435589918513487535328162878444781044275422274518288902586537034639372342352948389409692597650395384554329613075745954184303938920282634579785478861726603148107446613625006054397887548227333442946242521122668944809507728192003433286270692003311338148334150073879055865436605469142147424733128471222402169124626045115799330736250857309103637562938674523183640819339937792780407911430397892329787873818107006269550648404441764513931756277084386246031036142275852090785374191471560365735727425295309668110047673858222327305200154099355657853150292711934780443344413550082058600675024825765511261235999208295403556694534074021249964573675618413563024922805303257670707856178415471264207987466829850162764626558613187165683223158300949659723281667439775413426630796457889973899567137766778102245420901061270204492777042007400097933572244197206989643709644439613487338252572596930255535182282003550948955502755152148579494717382614373862999083867370955816611128548924653095926670608760501838215323454296376555767489075368793587690966435183238662173811206436067076173386933644786663874942115702363505796011569575554341067196341671885376663414280490731473197624473886646631575582404019927001633259843354598554149879360336624810003798003372080252099972275319196273977998959062518526343251906847486172395767509859655113042764718114515950689136664301710992017944157496346188061621390657363186035239735675494808257961558197085836733879240146212241863677642648496407658501744210994334373498635226508965513662920489537506197457790017184893715685338583191239894734097113805160559135059637304673959650078253975653370748595373716304192577669599069107304924946847799530336537096988272171450359307278546888801691985129664560229952745087718472456667953909340936895052680821691098839351620979413042545458311056301857804397309828594299056634882494521396806162763578805929371449115998605910762911096693145315957863547005224421956029903633930764875438374097592232452931715805013917699440262919496322500336092650343201594980739909376329573838880374808173476112200313646290397242499569122775273744331643365707923926048097995801778104058255554687266525393327862564324662586077384539923876309617863219447037386214760222705852010476057548834965449272992308172316397544373109449923163522950101618129454082402885921117978305528988822134599687473525300549735750352577449961251490113832712779663792855700088511098144725509470855186459863814954697161531785266294954304404007790228606356288078143805562874948110692438701403001732206653689924004368900550336196088526972847787512204630336964272076268961982704737447250137811779546243145054695255464428552846109886413308197418574242147572723276270056563336368836976270630801465961845857801470455897547876905355627034808604422453451363945091942812318530785072310348027256980327438759509028488340770682942757612613197207453179294010314934804775487285257038119963427613302131735703326883254645177400968656820019657886240085543166348197853272563672567558937650849120555830460132389019662169648690795242894020637697554718943918377295876469003918129926292435868332422663686249049788161564624567347428694305767076309128357684421130011422463308394396500643593630440974792165928886506768797266390058766984723385154907948419138375234211195309639992324703218582204764968643631052889932323200406999493921520386099606271405258602106148938694967654536478782926226593061395133288749736767311964467974030522878870656253627777474655430934250919603289494722405960501756982552557248131644864045254213962074164023112219569486901278228489919320858259088555351123289285604102894499012819301612942605043329173232718244394730633877994594995369594635677797661362728499800327289821999256041736549545061843420677839642834791765044100794412005496237458625756438116854406069814517048899143342963118726256157155080220543752370680019370975330065182015854504307335040541251478991434285156133246114262016139055948440117606309990924731415267304643502205139054351971409984182278530633329301996878102398454192604328370442395731632055248336946538340293003459596755546709786305509803123566598418231634615959429982115777336498079470752083282113114455602030181835272985047006071500782220586745149766329879250366520371206689892704846401663545058230825190167906234406456635539702748671237131070671563466453009186605056808393126256429884597752739968158576681624145355446359963914266816056704492442787927406650602433022988251079082027251387648705952990252665612466530326087121232492080700860425290277024614517276135958456595240714116087472419713626139615556047956573756270671333917659159149765611528958543688856072915756580047601570922913853459719043045866548854067159694112258305380522507505348296685761356903024016172530720995935002113314469185294476319816350292847468760497291828157940930991564323778486192102711175312479751658050428699705509040501722052663407452128594765131075641985061708934547639388330327249404435373584032210638902122514692543965307842713155577008705196961428833663431504166070747897749928723178095806466915562618499504417999131089831727095933305532540582189033579107071167241585399835099265988711542625277724067836833917669402000577829501767777139096702156544966291913448602924879208510485649033419318261091511169759360788683054347689194774401334010441245643530017233985330170185027932925653048152687868854749050610128193796395490642660955203623759477518505078463309508093904173364630277127891702677293873294716390046986207923393572081396643400869651401715631366256011331730005546362315213421083646999384997106683640088628024252964332382639805556171620806925649833314364426344385188755347882835610651821130523676472089035176377879407528271149737259084902880511794656212775192390852918694037928393537357486184805697163609965746721924472082303827849380517222580553572170386218475478124935534054107957008136748264000490308965643074450325193163381735008799297367526939750635127520155985156745190878757345208697217919971823222087694237405151945323538808625861060819726648657962336362108191024379643713278684267986730218466536473400194341756225769050323297480462928349352533926528067436839318767094970219381527787311411633657598204327492205040957479908776318535739230368723378747488237846876111763987359150119176973989769790821419712991620341274826036493802956421260537590507618309622390248780183146928099323197636559289150428484329657490758887820878916692026757978513630617584249867327981465289461053054748743951808939280902570477411564592237793800037659875262572716237757636613316903645107789858597755631075947826260457363616876790909154202413505205444685387982262066604264991949246045331453814691442349995139350701396302766415991087927872798153141453596911785067238956292005826915967177056379529885504778175533214736212068696729434612783328227971267347176175604649836190644883906401146496203538328356817212313748604906113049297673170318933022537696282034331405789143873125968977889884241408610550721641443518168516645481769912060064421927061218128332608780384174027178915287093889697135151979001590743044696647197222508441180831851697200314047317708494345087703552677045061081677855398842523975840155520950015173532127991495003442315169548249007421716242618739646913273042440941615521008437563579751049183049852899747825545987847876259420449223906834316489983132152658070073693911830669307002025480728483307291028519063061933926918033136416155938934523882825778225364893217851551236986328505514524538777002803827018882113632731326425404753127471894955871885513720028919517738166729252337792016781856221220661448815678275716046376933886388533439328083748113362684393851978876570942058821544822430824735191309611046573115836298827097601190330838900627794520220940103103156306997778928055921273502273613918244280064707831161734727431708067755189785297003716512782588528729445068602283891089356840028120426594245441484945116976989939382614675147426000706738057187014142266086334561409774982410240661502006707334615727133473136480212468899096963423416824305600492303591852147245574328342735024935024473568255849707904070945168713643734809873174447465426508242318604170472528878475158927804013107743844944811465549768873456609180147124624532096054294906625741353893661437825531195550362285827585482362899583768136115182673221275009243528255460194174874650803878048329476952150452257037312605684840987761674442665406344124656870827539434878928916322840472517031286608161870820546953457709862520827814241311149086616331194517457925792580887500095251044009856085757605407044409121691327830794065652190465147186295597827881377884787914108834268125189490629433649973400064585578023078071748871147629270028224850417132724495135719745166990906847693493364355789322141304144325835803096900860917424940648788795564308153969771805788084137940667661745920431378971347120686111627461376326391904722270829938513460159101597317711618428073158331118707404769248899557059791551682792853594075556774225891404384677793811001017400407367428066523831523799051851693152679492899893126468587595857785744663316636612645555964771484931642603676613948011299983080465937526250877516250117002334610594307835439045718312120508279820767102401203361587173276314279227046641187598884414799364549450836270401760893509875317457675346361651390684861336605930651062805451124024396480575434317119804074700058022485194771034449954723521092868362825947233538849449784387579544627445733124824404364787122824274842712346603766721639842047247593484918749812851399723456216399942245154069316858026963884319641456554264813429737007514948379449105094942170888755014950739344756543141247332191270439105999684981601058464808116335334488624485574054995096006475280313293327739277392671959466402800862072593010503035112376324962201845915597406453056897228124786693779006036487808643485666256836995543819060413618525920482763564135644149192019772450598196602954416300863708558785516297239374756516837295082184619855174316246656272782988107127813962321503605520363365118399923131852595927871819753702226507253835101249146740167987430532102684664791920676836851209912738247232900260478207772184631598775088533999030866832296349237172748562475996153827445921190830216697352013981240201756594265456402119389667636812546724474159600183045445473106513022781352708874030873215300464603123579885244701226081786408218043140213605924854948911247727566289913273441809238040802387058773562765141503378164322681849993216738942776270159580982813153658329297124230784675915092715901270186402811863121880128610103755943887061752742445724616537396077303195936390944529076688151189120396684435807919386453738894545765362728037848255314985482848380932575159607276463328760306668403558229494845328177547545133757665416356632368935321697534932576820344261601367614553444911291030556222737874450516777652016390102436811661314789440197945030580604606481813964231728967178354468970943547373057225480009664574250669865522000001]\n"
     ]
    },
    {
     "data": {
      "text/plain": [
       "[1,\n",
       " 9990020930143845079440327643300335909804291390541816917715292738631458324642573483274873313324496504031643944455558549300187996607656176562908471354247492875198889629873671093246350427373112479265800278531241088737085605287228390164568691026850675923517914697052857644696801524832345475543250292786520806957770971741102232042976351205330777996897925116619870771785775955521720081320295204617949229259295623920965797873558158667525495797313144806249260261837941305080582686031535134178739622834990886357758062104606636372130587795322344972010808486369541401835851359858035603574021872908155566580607186461268972839794621842267579349638893357247588761959137656762411125020708704870465179396398710109200363934745618090601613377898560296863598558024761448933047052222860131377095958357319485898496404572383875170702242332633436894423297381877733153286944217936125301907868903603663283161502726139934152804071171914923903341874935394455896301292197256417717233543544751552379310892268182402452755752094704642185943862865632744231332084742221551493315002717750064228826211822549349600557457334964678483269180951895955769174509673224417740432840455882109137905375646772139976621785265057169854834562487518322383250318645505472114369934167981678170255122812978065194806295405339154657479941297499190348507544336414505631657396006693382427316434039580121280260984212247514207834712224831410304068603719640161855741656439472253464945249700314509890093162268952744428705476425472253167514521182231455388374308232642200633025137533129365164341725206256155311794738619142904761445654927128418175183531327052975495370561438239573227939673030106077456848477427832195349227983836436163764742969545906672369124136325932123335643135894465219101882123829740907916386023235450959388766736403229577993901152154448003637215069115591111996001530589107729421032230424262035693493216052927569625858445822354594645276923108197305806280326516736449343761732409753342333289730282959173569273013286423311759605230495171677033163709522256952460402143387655197644016528148022348331881097559421960476479388520198541017348985948511005469246617234143135309938405923268953586538886974427008607028635502085562029549352480050796521564919683265106744100967822951954161617717542997520009887307377876210685890770969411610438028623950445323789591870760289260393489826100774887672852918106468489143893649064784591211612193300707900537059042188012856559403699070888032966871611655961232331998310923225082866180321880439447572986762096935819784385927969250123326935194693207724335527365566248223787833888074999276831633440318604463618703789784313032843823470410944306591471928341190975185239212327674384990561563688432939039442002617530976850605132937101449086396141620556053547335569926700941375271829142407234267937565069765567475934101310225342830080409079587329544213551307302050171598424230760469209732907290141606353960880559202357376885647852240092777111489134492416995607171786298436533978180869474106751111353523711540436599310889697485658800887861974934357929246204051767246012250618404011966289872673803070498361217974484679100747846356194664829224736134115135567179291781968056053726484141128347858241259121954601184412409349782963317042002530418661694962318735860652485410222211869544223788289189712080514575141361964805369723164570564998479537657174548128597406077339158775332355215609435919275199351014222246963017013717419337504919295363295101115292951836282819191821651676455946515828048984256116748150367805267878662716999649296949377045794876146628110929982020737013330324451005385378551188803474148198665114579322684900993000236736168555294173442059925371965244997925483159343706343970371809611470323074186985035054722289027174850333368328300281132910841693150457389933183934593292994942796015309756118708918929528449074243284767006243171171622731766606796101967802204564589015899524704741001158110963633731329388356868949408759334176909387806398584647300588928175998844477486130063153068760070084837267527789777356830042778902772105683833021470279728595336332110564064263909724579949686162908019604141753935768876587992428549912151737924270343248648414247456838889541893241450987505759403013249697541696955330296880219304874163501097920036210238768275176369980977614979636096704348140124130683576879904997436596296495705459524735382000363770324894982103331332913562315169854410415317054193928234723398848453552173203688088312100943941434938282203549650281530751087098604681224802973825631244989331965296202372608586509050307993308652001231671915182765742095689513136184095412121473786311042897717861448158316965848766949554826252504961227044714712229620274682362909803877469376987358942125441792355298387479830450253909788733469732603097544156474805473732732767248652759034995336354126953900458854988683574927864615252040800490114785892289085443353996994780867471613519785838571456421583171193004117989440790268346357550339888086725127883577297626499213827436573992927302238792576924232785487201297255386071968303782483063725899808484638503828356258403917311872694381464553651690062530023217591343084755215901475299149215296944362366910833233693767993138209275870024246238331218236715236772098417187703860172308522448043176333602759733161201262248323085329288986154559221427378507410978822244729512663572225567169779409767341543017289268332635077451210167869121334465680739797372711461919299938118178827541421792926883790285430909942441260511945849237909966329550263865701114884142266162969810073652710928504579470861508094054577797864301504899958634164700528220562786008864025709432444254044034243140203812074857537999016066465520986980790589347320243050635907363821521280600041827529325485247927904235727598574209554632363830932428250711518801775633739811523761994686263270550635099851254333875594601540900862014293625673738331693082328854327001487476635118830885173775268819526360165345900556160767713453617655450974424979076063906093300028416964847594027046669468486593636425428625241644836652173922586528474244952363302305311413449332339822336551611431469131900170488226836525916399723912626616140205707996727383529597479125488961419287261259757561701592645823541151922177253919651034344793680369057003813056557866311011476313189571556336518727757991908862890765494952019474922148851417079252352394293801701149485239005844358329748769279941586384640877265901749104933238853465429979253900561311562288241147192158137210120267399648622831610430287268739840335142120299516610846193164688075944526965248570070554452152547493450434852917987512185973647190461515413582582139040172118295702327537027389787793506904044938553587650503557155872873201596885061331145477101575699375441097493374115991199114962726801718038950907803041184400075585468560976965669584325627283327416418044590727844680051360774154288412712456353383625469068936430902068216750459819321744513362913853983154560610459692604508787700304184579153478291725762810632722108035826060904572460619204237580363147200158749075361633785243462298769917887808671453928846572417223504887766803869453474588831907597355292800709241471370696647029530700507083091412492771404776193459007315206233634226128137074504162520473449597415678882003845446774388950379192344594171245510231738995030348421937088083329709108176561010708693158020695060096428352046647333361163476664106311247065173802510599409266908984046663298613648854871230659903565772327667696057187057276814394932559371368029375974604116075641599919402266794230681485723361363592903676841480358328093127506801111571615062761556607158236612268544268330274725849294875852089790850962835235527978491475563744318483993474633300330972497012808415900969455190375849945750379465019166009861502794606130794726898507849610303884846035423392175449505876157130344700415823080225786693300512126831846009510203543174323783292176865976076275412421892808138872880175813109296020150746331979561488146333412674896256883784351178477592660577212734269328382384711746083782209939646612308343952169576581065423771981899573840430315930973215059901371218399762585055435459516340055149080565627330475362528926945020226163130902420795006258931367813005222140742964756194053782182452833097021554210929638693005460011927178302761563505715735405672652524175925436371863471836292012162456662093642074605500842449347289830619506077570528754845277680661218358066130291463288932240701043887535007851997159198390084654596996197138399723495863749806582439384615049184048485819193560667125968018574877819561104335238420873417743385185735663101292757409280586840011804854994149478736882949368786637202682607198707656286436753775709560349718397405565505269425218354301348910785234517795519757516484711545928466003754558485470994737493796615841040414239875763335201795518644856632201598556341934286668912522153446348791218159622744525372314219184738770596659942181275403613660438538829201810204850917717791485256026242529802492309229562177062770027659288158473994804255067730903420043491632913588644627415318468517462580180901314477358637486528221274450661883667873545037139535563260349778209992416559111602097437491432360787879331015052417047437823553506205617017572175387061751192919715660363028302343819584946594328460482931960515124867123604625653903565173322856758210937541222674223847046664733620292824834065137814475367747671882220098389682019784216724015491253360436437847479770633657905418133523010804559958547379685864708937791659340223795537045273849435441105983887969741143051069401271065628507537039823308867819868298171415185218271493613110963984021912448323423901392553811725954153209435002954807640291982765741514042956666953177304003358701503703497424897898108939453026976878231557938158928996868766367603579055322794822757659104812835219745724022347569914650240636730492833286151875049129873457930874999488048681250802904606446223569562767964898914869924201946458521355165709887118378290437174375625282606140534611987395334677500936625746765638459629521872262777473480491233965194281353725068660782076683862565487279038020486778099991754380815789820825255566234983933217491493864966284116889874665005414748264599972752003370084542592544301190399041231752771993767799847551279448012913842034323154888137932524887172099381195722163148101670274877379161830968937348720168944903299658932511996504109653674618914861599481632040891930577238630396311858213341337110096389113836596895914715370925073998461682046426447290788976525593505136546978364603183820619560578517561504972661817649030304982138534738696212234626114043035600967042547012317360449724623287452575151198771801585742829389025650825988275495110865424704218337264023078045681651420517807418196096401513461760794362769612228126118610912766814880500950963889032877710837651051900076128058473969258768737937306664751387942217354694021157675557568970168734104342446525522568974329716152742558110503495045718931752447070410307760830365536714180388723602948872805590752711115590794756926903978519601939790311768070356801944936106850640568519290645048685535628256787225734544146565541187816717729850612874044620890718502108518025052924590359814117522720320552642597751984410742492179242039080014606225999422109717176118746845802673724801365603866909971071347255859723217027554055085082090418987534829222004178998475030519537179062001509333023023881806519182405550818672164711702307529922652228033820404113386625335815042934115143980939986416365633923620673874259342713444701242702722227197573203194489407856355511639619115985907995399083680129468810771595938084908111251938016414866250141095286680914828503123938960997659175977315432797173945762560365023587931559926170852315074247849814256564693008105061976397395591733545472917526739598790117477449217745771908169489543790314578152667389689410604588351445026130645637237687631129964576699475767340673583537218704935177320214779403972566532581731659202199752942824432778102107532160580104432121067208273876100778332426569624765621063126975491546224343978061253999313893915782008560011171319773443130412998215626985098895722778159524505640435534979855872234521991778419564106622122049039017886737997905270552302412002780864726282517525092332555378737792434915926182736151242592242725872699844014132567954640475742451126102857394193479716383187138370722782422619384021010896271281685732287764210298708895557148397743497418109849633633910397778254225179400022143485886207532122646613614487518735142494469575836744785028013193033901949738716163113800864093408529297729741462836142201120573027427309566658849884965134295188287937016147499504685185116851709758146686994243673140036992381232483920618628663037402351333907771907455224248515748726136075048020960976567862025232356273025557054386729189255571672396871991669651834736987440295942395220863481341484029838939485593327256627318194137735451891544384960966451285561476772564932516923822003229733483331726306200059192067441136913243720403578098676440894672367334549903905283682411422011886949265324531399323764100563996744273693606586851243936737155349696358970470706246743064681511525580772367129358691546677179280674603197443660235664811911175324239792271603213932690900431433572511935591785787438931910836722219749594385217682817205537433987939372420698422586002026702204502341484432231418159837133223467338185995720215212999066855318593765188122815644349842897804044474253173187198249880219056124756835053121936684091113613451740380400041281474527453687530122741226292549431008458868082627169312891414237466973215688306962596297824286828479758198382340345222708757345393897126910174835179971320922911746435455023926629385455742630840473245989374307836875864087914312319228307304975362481708579849870550314357368660453504099679685389802578477910419231052505144696885248726344365369453921372194715998156624454330562798282777349584666757018969900985110164491047993602922961645132995224271404908186948080818144765441476070834943179921347693205775493727581146799477819807044909830887802418354528095576268178221596410712216509995196961932368766959924336939018675830477951348564967496643006978548120861013029026482640402316621018258604172734501970838570222765188590393123627245232006535983907604127898007628220791246163222713051906678029644273228763460060289213316094057396003523608149487855784819923604033709243920895785100953666245538047118419834068589948934026518132741951749125192568729824877982938351710224389886834755562218214866075518628420508441240855088408499405226548535776678864444680504301285988469915501692621173049550268365498340637943341584797390666973271817567111123445212701138287733170703648843560692535012857745637166012927846194135756491508269323010063559087991831480179606664893606864875569154700860602703909640090514609360513037280984989976472934205971076104365706670369636731086616773064361333184164332104073479210775688703754193241101764488071673304176268034528127946729244452919161882095335945667158450941476301537032588109254921620602423998383939639570864268315557737923542830477169053850721939927266830567227442913752680237178175908437269780708099690192695002592421020485193953805155158663266418230452129371046840218806665165231438597498081621420148051355131865453014871298249938624272154345372391802215126115854861975398983110888196358875565793593310597895992053240439684590862193232015232257668969509415398393721308747247732944493053757577694362680328316055060353219685001207195191671426063364056179006218671604638684249067247572855764071631397824639188693789635247708232195940400450829593853651517642510129335911478337995658501766175785429966837417247838838645892319920041196390925354226074199412181950196251598137076467085022479201649174056794994024967593003129957099742026595785390010668925864718839026058417582396497109522944729874183273952292247592156943695682037477731049514128818431210317476600507328613045698141876738705835589680568812062901672389707603039549708273418484069037215179862266581929555420755695654139976814235027490594662592770986044588793675562143709648705744665319814772892177290937799834952769995145061157204394128687121538756842568036622321369508041915737469009917048039885947260486258684449762362318724085339500204989295963618739437408918888568903691128987832325892601331155260901131911962536529384643993465666490271108522834470184768391573623895239732781158399355178022076177450755929138381468526577309152290502509145241134006895661073761320484545645543610238773087594308408699782711315425513472058939339453013548135244176754131385012770024156261936169649709944156933541666590935759784775946468953923516229723673403650805886186209888123677098892944769654360324668874429740130365009770291603536426502844618046128137324006034947889707723262364927515545013731797277615272236008596598736693841467685030166103516988390995570659331713219574003251046303604196295276316972893990945091279545361627593486818455830168634280653205028729105026906643726170661778439311154737149759096116144493812106746037251452616271615212935043141124155849847574091878458410177325030553207237661933970254488335435069113577757765584551136714634629223114497809546405079026755854160954260557783406467356189398503160303046687522579708387993298769182986822970667356246647939653365454544268386404322650296028881298557242198187208040207296077496128886166773288838620609977925416822156713703667391333322086520871904473048593017466793578173830832406459585018177267447690376523178740142636502172093102619263046542112708094769682392207383797482057034793196525139221370199877543931178601238198924707047629587501516299912892933069025343575488251454948469328322898202956506903308470482517744131166464774750723477861518055343466858040987132273453081836794564364430155246274158100731069323080734901590517008753654169600998911569598454702926629374049393677685285723039754691181021469267219333846563053673846537824970049506209403506606244584412627902384242785280551599253188262786271531989567165398385428909311577122438618119724985644233907558812574859217687149721341833317289714977694982117227337669878361212788465289349470676995146785835955074121568375032937822352378665103266923449887690619794116574936418347914823983988002067649967289214983486424468737742286438563064425223461210639952418146166111391586408089740413945879849036682695488197808766021959964846771145698159367567904768112047055740602351237499012258567357965107013251562237843754994747236883821060645969480067316032381351192535148322216761442411144695361182838761115795911310362420741510826322048374540404146990479647073113428368300158247350712922331119789013179701651764033036649606749518628656836032556353205617386602749327417799524243899880581322620681297935615821202736455540414428705857131835238951742471239050758919353490570268302812810704750603181709274434806504843422134152201579626776393642698168851485545206897802036257496043584180735523092410264794436423951474855853980259367017205588767985309971043290404884467541701918912275745752402121744890326681160647837985004639864193645792082105266057503921195311457592621400830660301768120178560328650220171413811642155986702637531155554821958388905393544592180587272433749899242041542816666821846374863337522729077994208960545264863862516411718049112903451378140021506899966762080732651380427792460930762263446994159193223142565029996403134383564087766689537759857473403120477091886596355579944643688205981242040477802943803932459722207541739589596692034052161680837588921636048584789929663903107349945667027830610483130862872680661015300745521669893857383782690975026078691245077096697355744971063878379083608563324774011426604588797712843335089341752120843133549155805945217503766728136818989701075795034975931147113851177529084708382646930943663837851488798723688771534770333456570254004964039987760745951276145936694695508877796318400093229973736770518512573233230127134210937068680950264362225510872877141635601716276267040168996816287213326422268377855327887822310204539762272583014902609710931194995685950834598509258803363019551891846212990914920155838298607568190737375958573348261713794703592503972126314316192159571451081744034114847904386601284244643362857392442316767411036417557776991886719910511456902002905771699177497748359489810115650557253501242519595931483440417116222205504589671636754478042893488385500275211497526246421122010774862333476246182576597178403980436617669560567049936789350370893174617560282074679058110806280348893136768773133234721178541038289213080580369302853910384704528018344058313252744129928355732704028220901951560054449764635932065083760864473989692709381120504251266930834839999956860216356148940167442564078469350152730245749435722205009403680810321136898946443062041659878360406811331217133504960504944165472883926378607868385731515366373416312566122603235977742473940324793478740770352725436532455308438250865693864330020957120719122826689237609273524467576647981797622831709248187143189474449928329051087066866263901462754600186683583622062445553828867143621415773638244852570664653423002003386087185683387095282564231892337305827467825102905239214464117590700082862874915647212962223100149842773910585262712095702633425139069275541249925826898755913048489059083665047386569005980726512682643809800080768716889749767005747228285165430935469423701296901225200041775975278099341399149455675655415791289014141807180970818010668626000334746783492116354330741766556197865412944331579610856733907210970815247694360208231077377319255935591919361509992241851869762511821971598449396422923222586939583205849537600173388242916813257003198490942805178528782842560021549233235032941872842601109623432061485547579038802849228139397130979180562447703494299530585909415031237400213445431607049538809117870571045686211621069655023028886617060314580222884344906879404890744067164557565160596397488164744575409400891911083945126233990453364772541741331330821153758983077390402549739751620825837898384996200874749622331436354553599710472896396262914675542281735624665804212007275401273982269651802596130334329792865330063654175676003369688243926391280713123038760076039957285658333390838592534249337153070457471482743551037417147024006867419141874398230449202772009682282474640802779068104741602882613440803256607530230172031981070796893051954145239327661783905828943932146148894821695918579498502263858318704473290299790473193753803543920285706350672484245008920689712995308213747335255792982565803469779504974053329506220584586976782376547358092670753891736652401577525890202354883227480678961328466821865972869785592672826822656457577958670571097728396605101516387163615321918203652729897586807786443044896628670393188486921931839182927172554503767733076856308657600665342622254535057629030862718937364327448083558928220102374951534665262857504222950995446014428801859061443379679142717413278286975998259993819084477469775220567898395378570154609157695006128689610825519373486612568225010585752375050450503641627804406676905130564807191014132285063482665726828511933059433717373899623654715534816591630086838520905491060194596758223701911513581142071521220673521948777069521608531717477580542554138038978873716058241771904252401056370661792996395808706717083872950238057238547610495061732689587948240319569499000594593719849004104550034415014066154526994609094441391439071866309009249691812468813088126242358787204856089608234037677437509496768451058059579977189006605354903359961784245121096144877063187466910292356627771165203522647016166296488083808997887687769308220856530068153940856748041349469491870704992660210066455819832886130678021460369893174499939107231230405088342485383796742208847060385334943928147519685791292174441917386398739155908915859310750449419969425856920503891277550092560029225566028245733054164370482965351532695757311986033153861767127072322962670122480612322195488891848040149357757131302308897501348573600357134307046628157178720021578705983302856401851403674168523579202306440644159448586566246905477964086572462611834063213025126230896949713642334585419351128373132157232101577687884147986752364441711298472354763142715850293434746434127230225735792097083439910498394019789979870351837786010778667226102241684498686398874227580631272581474396676719404444290071284914286251867085092358453277091441099575357659812178523756848934429670368686181229928033433456696493460770903592231804072849827640955873854491455416480621098619090449331761288966135325413062313991971462332768487224184119088841054819270878948939590681778579588918587881426099241767753862382406002451821149035160124492893940578494055432173589779503867792448614769448734671863583817296627073341404027631029821562303142157743379294616649374361560459036060298581224576085252700570061877609582745974967405315882162695982851143006320897730473133461172142945805407178876223011462558510520930761771493278603541262719880522826864107055049364370555816945830840650960447321868266858216903784868032280479864021706315653687489290467679015864709379478762373013822026373788822827564163725872670921602434077279298565679825234946428376162918717556993454693724759744644374586123577768842647346924365909558553162571564807969034052671504760754742676960038255814034354716520834598864538432593908154392918939089896109083521992519053530398359081516289247571043354786424954980741388745386023113329591390636006694539437438690759589121288758007804082911975207095278133335550232776761783391381794105109412999680430103899475051243232331431120663598726618610084717254696908726637456858466646162093223427680684601718516702427671125913080059583053658180035991214447685286534985397013876080817020918472863351368783745251292936294373137797794168163130983688833624592488270042533275310174037401858155192663147588032450316349828944090941459435709839331454077937638533884824056964583661906580362312059760037127664830995125859310214290237306052000883415749724405028863402500028747055233688541068593389039662379913776485715772093749681055718277781429659244251666703110135820625316518906936462663613376783677001574909561444962828205690820330013121289873007855206280915035880334071746233511142838096550651818271177825964147342275885803162473648253508879276299074813242692461714169521068548818275361612786955216412383263246164034602771053052217127416909831714425842754359325193708367920524870186212708574531518197079797624156322369627530303625010057401503185241771381716916959066550480494267473696656051819527729740440782487416353087074803447126307550453018768734511631260002571765708294113447159058326859464022975489061868569715529325333679192904509181338989039531226114077604146341395120253199068720690450654317360799352434791082039695478061926453254644053124586362026016156957888326419910345519741792140396061817459467332211367113051675844970722080638249309285348257747082754939860608508486386549912912220391895379332321814344998458680557267915553525212113907723389037979427485209309504641599639196053296030292739274663906234190084882219800040754390250718430168480866157009022053158273857417267902310193566064243660834080202786392263652453395504706244108957791049298908397097715806857036527872932846771952274875201321856644284239116502005786314083266606564469023548865452436995428173054383481532525156311603438941440612599662264959878769003712412406305072713049361060777519351766684350979095112470377728527045181653556285621656761979382960837252084759203181114384404005114613990326273362146150667851880079327563486444803726963278475818453468509565365380723807736793526242145533088833679727074192838872685484977387306670007551965761431583941102042492623133242770270821710047137152167948872468741189259805623910487138975034203376673344989060052111727844670530521327425332189734978888307943626099125569741350839434061750712876445222039557455150019442996232739317091487905148812821582894579949748623433452865460274945133477267345362799684706610937707688048379567860499887327287273158785195505216946986571759372875984514994087366735699690322212619073372131984972873714823922056361158276719293687517950957314775347729780073870450969204201405641649670458849057466793682155521901095027966023590200629563426621697556166261956721403439803621918243177242110484823901622121433246394511832190737036276362556947535372619436126996645342229589006736952014870393865015087074414735220220770411070088328030731545041085721762448600324574529642445801550887535581445128918173686346116567111050151109714760544361537920207546115073529167935359803746233158035402507293585422134950239655004818456256327794930441926282941363007224150758144477688955569616025741423859274415740477217643474948663183182648210083785749080222199122144694117400270856159095104885845967392332602301843740328702808569782311182460392642129024729192535226787567897868564600570545108945374190649371558894253329703486982693386634574807801078719254129784907155276683405362407228975018016417486695226639468897799829747034414846605232977531914266638473906810541671168066131262918834764800639654762345192540580400257727950859061817326000188356677576249635084512266410557551645134470262083485480776173701923626406384831371842087477223094467978661221649689842322789248762605167898686475739012260361067924661728390016267344059903224026536343550301552983264519865881303942586617734987280231892544278016113318354276103258002393942607858756949485119300715853929843163967575531352484221274814864027297307155457109423432471856970523635672286551516265672389248080659279448953078708153606666741314598260798811278754656313007785743484189610809499119436037561075326359414143476882494692530787790693275290895909945065272071979419682741840819830567497688086236460819345623637702467815073133466197923119939117195979352833117496820500577299938566476984260815518940866776320855483159836188850448339911351505132909703990088919063133375804094886955895465912648104534621430295733375992898959329664444686900648674531661878821297194146191914132978673375283702995190706179924178140249356285006536273771636355569720003246996130665282451695167273161831393867558791278264933758040011059211372270839123518459709107480669852696080909181872978501574064544548264471078633386599113188810137746318984496745989011540334259315347740082110734818471521253374507271538131048296612979081477663269791394570357390537422769779633811568396223208402597025155304734389883109376,\n",
       " 1334971414230401469458914390489782292245248507606277355345627993984127414621589686952230598025579823323914988942541959052433242887353708302078227980298467078317419297388487577210620248981096519575067054001772910465325312490675422508873342629571008941299300172233033166129544456836299498452579486504015455214736381320720996535676894694360228291194432615463049211300257964232304885829543477013613818075315061582883126194050165001208572539105257562201075597764935807748345950664391476350300829536533954865604481712000952705040802828803086444633043581934923374590324919554932537826905554625625590692180622662215544052763409466806686491366237675839098734020890785176472646045161605817204755472104483660819671374479918226442651928529699886492703878073655308269499457937484930238033529298447444330559239765931523784102893721522385100349875765013041292735961760057803041619037962983029036248669634352989239149891816904337162043455419252203824918094726560815100985838795186158194775604404398151067087953994291069425659662679592924634171420282969493446530433701578436113593744094066471415473726751978271764822062443772974953113631391171828465268473960111002566419647269158405290261333504405721528773250558502655312168986343564871064654334827513005332648722336798578355121274660610619989132683323691989424982157428060948198880446898655750177846292840315288072510346592430613004570981518028385553289593498821833724114527495691603695714743361010656708814466807351536259662486169634113312883567962395107127472503411604226274997720650726243789523845665352021965353197817949971262980218757257539566872973761855563572716885311398905796538833044827717894830313884213574810085098565935921766781917463457858769230646231584554088864174529684257142410973222364981754013483989187362012791866850913486973619495892038367481264948454352230578221003025926468075757275781942607171815439354828704033591807492330777161530340011793589361924475858272465008394729371715225666239011244161943950834583986014699717468669325768006393466835431110049135421963635094516184789296636019144432104158145385345292389705098765967988961643776097685092171868220536427128815605122608931134394917645728564527112075649899243588509896189777871982262490841773371456328228070511796012591361435987169167060397766847890168112475448921055408239074689441970286447135211653933201894014849557457175928887169395024947699781420857279416589261535802589227216947994510155816971487967110284575709335449414531466148782731280748249177568148307903598682116226458877966118010581907754637665102929077119971106269742953417830461363442936343207405386116897229732607716629962790290594693258720290527962515742948541908629615920387702713284405532221912639580505793469912723573986150303898925012730461671137277870698134139263965445523865220175972182387611873915865996620624135392135189186455135783388504933961003198446605208670744749144430074910090059537659949842997826728577039649773069544827611866775654363977241068139998392927045274816936150981339110812998567272500822776538852136389837011510821165870291520880995976768669991872861743665353152080221603977438626211594841556156961018093472784135886679204847504736973577572701881274901675093146291295512559499014194658575350647158102843413403033425379550112043708155448934828126796430034070254614926175843334955344361658677883825046629445390488477556467905980634307147917907324010231216353890005861558147227617286591360275732301445463313637910694474350784977876358288752743744917071710860242478942742343555380167160020669574515042804347145645311238456912009690317832988292741311999586824327799175771292478825777377168640034704639941266192370954227236366120326589031417286377768021576590840665892680664632681784251536537116755694403061528434185795186272156157823181748690549821774389536705499592922819357956348163071869600441148786972830758543218792320712760035735487848071421875243850801279845349105735919575654077683747724406422193059014312198357729818265623798716276409298152892342925338687735996256929450163104572151175543250694278712081789175923413177907055910603419879418725138782466192194904226294595706839605932337431233494629435666965049583686364606117955832693410338097499893749226462735005318561754947251821546170560212511414795265777096314359463893825534890025072348400055644199798397611636958589582563067615424314091593835242358762107095442779316504216289376524565068630770721276313070565709376560594483200535665651751436948980869921025907786078137046932846589812705612354604487184488685260490200182106780784654472769932811968492232580293770486523408319152137170374071112327031570327514487430519488899412679202273838408579223291985173892372646001979529189578108378568253224106601970532075211479622887268325989066909380667955039896842672404971999441620102587002389055667070810316786601458582941570359373708315525780401241430070248873028814945256938088292358742142825897034099721468245941508680776118231399033075823229975782995786573634849303823731881991490847269799336954313521778061264155247856275391133217083869277859968305367203603243060441431916049561622118488060739932131507211181330867378374445243455623413727351709320166464044976545351704283150699231022375825537628336479220766847067235363138006014269210138899285819059363526419344006775798309414501256889071364557285302146843458961506093670297695754992304345921355058028856519718292323761725635880694289425076487342445695315812775288676062103914113130460488508342179379733036171284449718598715990690132317169665961842234909776670587288821661651139948921457487140834846076973801304222950462987736722879935444027072023810348225947940777110510001464135979640805916403807343968321570630503925633381716828835020375705574656377389364937064880293449265816539688572542746440669831417201261933866120750641748439942962043642095844763456617323382486196973466598102625887906938979603584298098197819580120920455693582968111829771718494619122118702622550154721918797961233337027323086427168954530599802817401657993469292257129487969901266593493068148727684217569536396446003325841033372951726657461991395717075752708591421272561430474973178770766128366749967747395266483385954293549740772649049199110666689197872022948569545812715408353034477721529527873023680998824005098060529330768524842394953639010703169832569349927560087527143968841152415316983513420645764800160191375724639891780048389082773506370764046017729260091910225123911481042978949273397328995404278205395057818617768084014464787134781602124601084605012871297700574201445739342571183552277491469748937919901140789087246127442562151366389034300856887396486241066253400695551298305013025073659723471874383336569969179329352183313798829219219358066632512330505982753224920270949856479726151109895867734980085820139985755461499965593839522780861704845984691938275603857010557233777019565131707314527249190229555925995739887874368528401134288590465106556858084439165955819325379090655701524823432110002456567585197050701832617425631703221938485194731029800855574247937366330242905627862614994176164791763750804489388175533079106428733413338410302920904266852403280733781724278078904844570901976823804622688735463969881994028929873779841027214400147177492414099043144303487317973521208466651501512232323889321698242428007691723410750386127620592737736718528743285134223275701064206075887970918872031381236106465958009819553902323352561308380819650356170685327151570800176776979203356858700893316588686835813326673994567314913372820187372659749670894631256097316035668412972854494637229461195871175072913002695871095217497150382574260579934039999333442473181251448220792104523932961770764239510061661516371346206436460008186609934412376199854355562969351803923656353243970817005174985773831631398589370765929197237018727930912874143032652342249115110905011503964430166453300520234628518602978166570811916340829841076021228429475207292175481198462819094242041167442560153996413406957900827965574946523786905664663726596030049849678034290292471738350864091231287404425008055301288136396265730484663627952349003771285660691095624989718141785508633268943204764197976002930641435248038590880978488813919119161940729099965902931480502232251690243453997185690087537251397360455376765495087748952644835032484979588203952955182606879675309648501881237960123432795150063023882642195183806757425525678493322717101191371791385608432555648481983126822468787716619820803216979605115414238696910342784114105036100497376182943035055986239697994598850083148068160077637902893166873547164402114027907996485157629568445962365856761019422271838127722093204315171822017816947879312788677431731050377520062182210827218697852645534260696275069914448355726777611906452287874696914763437063897536676743607067520821225192242367179732664698603172296992537020357338238539474677632066566306099530681067987636822044778676790571526156752682098054008060114222048648235211088677652001733408972390404021234858733749816695639105516972681950213496564480918881121470308245056746614322544958130326224783348722937694521517671500544045766814081079949624060064148141994717787006797204280361180807876033049761456459736601225700682679513329369667135280396122391470910959848993310326370227556920372559598254083126663539278398534669117647275078081701776010725472872859706510326074619775290538573540867490363049236404542295177687297794359172552178522669357542909897340384086004138468924550754779156251358722715250078273456312400695475455417163793954731031875487316712914778226777199482042666876007631559282483559334130263484545101668472943337107974636189072668256721441101751960657630930579890571217013133779253750178886234600715126681471192732194876967974705346399942370828057595995901383937989262757916239301838161298743259102739530046115969689386067963504473841825131009263570767441844543498822061018165836221101888304318773602442335093044825332951926863660605860472577128040415789564658658760949664374550506483657520073315345872056924398120801950628759949600452074436826919971909683723140105806643040993541984696276659353515432883704923181750655292097082248942588369471655705227541285556415724326062964837770749373508012224806049763276210296913460315569722822241233699197676158719308644620420427399754206839767806165856149922370255128804008022894158723967534011470209293187340825716985586978090803483200178017155619123489584114366739929326163278379671370047745244869839433613663700756819627311904593632028673791092469734504709577625178604490022911775795635903527757590082803960967183621843334230396544679823577178014527391971507748702518305350972151551013587087843530024575829383956735693096238866790490928507739221629097063537066753821854932139055125113294075895205888035589321801553934686763162360788250393283287044372943027305965891770745945961986889133993939743871207337620200744875931142612339641944343171680789114958909236457693564727435886892140251185446323169957498865838357163507060810461080191719950542249186902301394200638270687404668379284242491907941635256318203438266891431268930422504844897599677815094683423460086838946308409185109218099582382778552584415280973758084138100423576874873870063202171622860532924077368038411226410982424137075153401511388846016395623440703728819399351640978516448071165407640197955386458301032352563028276255683153918357929629511204173057220830247093435703558115446149165108615114093718422630023156158974660742161614974080012659585301647749464656263935203569315114255688955520186777255637841729090088965765391872491332988456224961131971497744355291077767439804729220014482176434770117509356056419462005900009239209136304298407829604290242657099708763925121862278252306625756119750536758862668628973742695147479212115123029472181282286710958441680215133272578877020481546096934469554168091733460041143121617900951784375132039419469898821550045668043572570058493696157097990107188854285061406445356389995621965348460560570650030339594584723095149407512722475608482151421254532456705921344290329826363050666813741835759679010264383183900900426982032888709346018677367132594027571972221169542794074345583767463049532617665122373371521290569969371105186964800645814907996405338776139086310190546246384604748323569293460804330571886015865425563687845942211347686287345635863307441088145681980271736852356507802660571900537562489865889482887569802379094531316593700616535181265500877371865757489891692168209095013355949291124408538006770680341765096877490466381922766715154296827892218583851693874149152110945319202532501928382041466301997648354544173124414276785379652672874408934111186860872934076769116326310305732334678772045167997727383062882090208828400757534380610661377779325757078288356458428699838750743772414090234001977481318780610305357627821344366090949146786132210132425891844467997767873041828256234134043700919054596801357526093064192699494418046171274298296195482256954114655258087516722549288717090027359157455511851879040894028116277760672092385187083441153913073399744820306202713403415904767540872551716333818049110237976661040866987004713719042003989076669812744369018276469014791033171905093728432055155381417432895035462887923367878601704343805356077838351997152545875788421255157627568395226659972603450474196250982782741797808458813714356944564185599003224127949094102755697139363214826856367043369818010553390252163365646914562627350978269530096557709255865404190216746739329725367231970886697251809550069074583689069963702589492158734307597497699707240133463235516390446129797480719429956128048268047204543591754339902140829769117752756756640254603864290026766465198401090708487168957345895715796201132102446646179524368273962995578705952926635889671115894074874803013840940056804092814718734811424935001287568363352795557117634320149385855292209893075541155185813071840997739057109753026713343842457980886252867656475169859262711808274714294265796169504741796771078411571101568895566017457591608068423270814491920693553621543947420695982990619436159191379982387433106219432189136024006998634670840250290239820919458814199528126261098417860012452987283692318687902874431525284765468127643263104694648785136505375114357803385063650315850606567846223181757403184796658752831883482810099060965581175573600595472018972138870821704012188503589089312983577901121129384096015468665635783128187328247547396747703253167227848876375857098998250644524199723844151701171692547094345260705984206623624863025200858356498534598288885818837182768732337668791311668038065979442193089146448693564304304983481163551309921965499210282675806511346683589743875951772396657365219736195938929189194913603866951121211474438882753954283627685242299440002613473364208843011065437902891157181211306900059952190579781528346718337433070426993322556578048312559898523000343858583280211337001015551740564264887168033010324373483671489968825181607234395739483635473279714019629137437578202418402058472831775487234858953684209982498667100741552753960325361698144484766664097607076551754060058774146381192304836105880321853493984110452770827328015864518496319676496956772997285799067041881756809265780912475959186789310959941289091701276481834642675289237448850639346852618609404078337396010229041892757300921386637690046184313622092221004571731137121710033141949954712163519339774123876111514393465765745510617938718061718075427624246820706206513097174359222182497386901690780116043459521527451295494916371150126127885139936344065300888982623452532025961059541282507173548650339807646821116854039523643552224540017131300827038440753838260497817848232682664866150108586289982408576346133539639866204582603295916188307956861878979055339735816572725123077564389664492965932299327201118749922957311512039945521223240201861614795865781594425764262395505015459475298782119030307421574784849733256742420493040822099882934990213362559023986839861251517411493098541675438698612026504997672910042387255537044763407142603011627701658521544283806126507066809950962108520803801513474500628860129489954514573546085104019696530355183890711495955419544606370427274555802978084170866637129346922858611243000188133689238314755020716365649666508015110621759577720967578181249784134034218448190735692389034624789472600671172896533826257211028219493366440722205798291768435654013605110056243057507711873123636454792860553176398094588827230797626443615594865959218733721025781196375310351493917912241473013174855023562893117815539149124356605759549840248861429381411723105462164402703546998388349695403696882508852594064809339383417324335389995539584184254093812710500587943739048701034495377346964389985825257487964191243854980597731248857206612871044470780926805722219296644192414994538549931179642552745230707990175606441891527691676985823569517470064246515580038792977159971505239545187950296268445347668356088358175268298542170324080258251052505212130324032291636762881382690112676350744024786001193644440066312888995920861436849131628946153598900904961473292756038442260875702700876644162725420497761004241075375523703620055764764356475213384930815416641789093136407479352494741514359965132398005810050079712769278701727689982477311139253177662136649692334277810572805520893816077502651147420402118132997904208582456472242886685057974350356110556855192226286785864751129169380389439690087480943060525409115908004010113950206090900969378656405543377315866645193816357106564158210465750261866179310044005277701067186789848315372571363685516542670736721011537999881773042328315088634621956576331966070344901301716581807191286317331145895762130744313640384169651038385703541008799677975582920714820854722708866931850351350029851958455429625786818992266770515600651254611602067933969574648863508037785770666364296097069339524150102800437604862854592151492457145388426208639847728204236100786249638572774088675623239517270469309239777469024806416658384077153019639806842817612152325792161745872436694716543519436217788297635939709843315173670927681373363383353903100922396570493794562403726930398411618934668119866805396377914996271691478909523072315433776340422877786559932918466195686794466251658392097879912883494516793677784684198236322540982011084569982338042465451659855086246532402212464662527009941130185731810505052405688440520015630986082039730072866229271187473809869197967138323163253067634500736798619960092975673439149898924658486702001134377748096002118274868381123953640128778059709218413909757349748288493276267746224501766096505411050408289866608910472137569124319992319886861088629188556821840130556677908155742753289012689708898307149974792320133471502874302822410908046685158518189515265220227900769119780816155189375637470882563130139909992351368113701521646419453183387428480991031040459587046550183398642182777637062259072406619587993604652780984970666912030303214434444321321766239470602261647626317976250111487127612092867735861346773952791956558828036806186618127206715787287198240429343926529871974315913657619769004519811756418179900214555051535427409144731868451935941468871670221829870422733808694048737363567912099574378910420442631339471531232807924249749732720161341427597463880338080959640792534963010817410358084422994850015064058820199489206518347466383359483280770105018531621921847339511383187183239889243052196617438290925375271132119525753066641739136409571872841863410203349496192991324670603736500976752243241931040313590424279730070001219649174600942943688899079835840130919713079116806886915454525352963664133638797925409089588832047730124077626838143777559719800894492428955279096286610504688328201094657108127577172513768767077194234423509311399193346341607260197959316880115648996854247777828633365537709320576681405504969176366524590007205828196090933494864126583286143520105724897954678406661299739368381425239117708644931135400417085481219089014031843159444277889746562405441482248170799873012254790984957112690127547893716200236210767133267553360771350862894148962964394751909100786999734046658117637744732632795961854690949579982028712454663748319036815758012319412132356917867673036751004001326072064189963810228031637649922400442918031302927258749151728782481301418670903190942430586421133007679510340291841677718318755417340560247767747258067650418632125635979996798615403406706273021972196680887467165083548016303675978533182376393146654004780448610800824932670509442707049388274701594292650781112332094436551853602416449735658254547150056675272834885850149784967702015607148451073159325105059993407214344535293536092775335609544314000097261650199145125224831551164553028617070346672356884691139967780317031799038685125034743719032942793489103748528612157226093386802220110750761584119923272016086579088419862856640200511667479574601599566996463307939622331417030043620055213869308786035450540037074045654080958662819994053555689636408974942322351781353301588618474650516820023241884820352977482155348884525025216399152374522803095623575469793591669130415671350376694542232270045219873630074950092215548596169575089766048856734496377143475965140894307501167379775205350579292580788753326484995280622921632602019459094459083440394183280378226813066009671149119477851249723439230727130802681282511437091190411180891379885307376639730376005391482090130407182429137125471451801644463058380225554695677625205284941743993650504961490065966113746283950223401372532830392009432588108555958742665914124116499906385990212303436607082716886354711299235004105133941933078652917748445195225918169240065245645879761777574928958429243995860042888664484033028238787786166321636395058928056471993461723660029959522405814331795201828151402379321357446135068679691350610306803008671330607881763276961857801409774291401568837918097847790620066441037186937346746787289080616740042141483763842588531195434349339358802947789907959825466608791355064450035394775975215575425922677662314385015197797874182914928817645151068065592895536398112168769135024151146785931749683968052429338768205921254178788430088061985797992703403545298591021516024663838099027583280841266573381064501484372918215357240216975275609556629219159303074689477344561215387172187040581804115286660768140911201903303394067377273696317489248675668573119133497723484237905506311808477837761104082747574946386080379525764030351048213733629343235587473686907307904953032382441983338176649495457915629301057191299578381125454483223008000367455780353550864040222987531173669639588643518985580200713125621038174570991028610240653383936036338237437888358206313821063583676986839900852718052990399017523418968739439371422078768504955632055548252572449594083357047530585211938514897171375977194718314655506040121236425336997664795152117107299730557750019448291649081074366091743420979856412891210938208606521958820885838241030605187573672314048064857383359792781811086132852250016312427188032981047243678601092860486303651919812257374026921998285552630639026147077667928782100985230246175473606184569475041675429270838359023094084664492985495895971755028727550358536616809647701555371221306008222690849751127278960160822029647151370520784202562625621733264422550617427081907371330110199384841233920716248702177378163660727218808912437214559643631292395464424071131155221930195220976064144138679332063156886145947243561256448395959791294605274084905104880210847460156505326764967387916743740298922916848269278556691477504326328206509031560954412335434402847913429206151929686982774335583344437930625231309250662025289791443809626167912903011998039074847586995231708898245027517967907112959567211776360598984525501162624353632650296204664171952366828872523719359750150142240565300159733086020451503542199742092708278573846446982452120435490887489007601803045744196700502431059251552039000120826752523970358392003313060001867220775036462949245735846674199253315675797060894821075289755273551164126538667829315542278836215328913729590266360335628633898551124913590364481601667685400420850385851438278848207233433885394536958941375454577381188862492985489095328880897177896431351871847572181535036092697486731722762443515934561545982999881599582205066220649648580265278339118846857927906635498626353315347783054913279685797307808524342950770120041981198883501863113778911907217711330545199357052611930051793878471831545619264670171350549386495684024594398421764903169521874121945622398579011347006247078199896408496556111853211014653068947904232238625298753039930750641071406240724607241771760064391460273907121999673024469575771085197803088554589962371555874367705949955443937848565121287291503578206859002575761781901563775828878574122937961972665412924074778934215034236536062529092521595432065675153850414539543699351631180126604814086759633763765997321923287430191846341924661794561102130809264491029373194610976700183344442157011392526704325040639558688993915562408685249655122938612439165630976437032158977171594728293054145251358332396615066845743568763629313764868876654901272198538370259529317057951366649871084294045556061162190867467119804892276998565419082020378155707546213593028852589801181003106837646791834690866097483151871918303199061660713700772807068135624472806883520313952226752385631930700111180797033967249263113948752981484443868320546120070824125670258918752228392673865038016089268691464552936468203219616313617114815959425943785159500684978883247744812630737239730155692130545945756557470492834651599657089143364402862341137743313613020685027664431428228893595834937233966625276712757094813043478139048028581617702019495630995629027247299852568744322496522543104173528217087931227949055794380964082458934399611575360556807460018043150819123743454166727456379749733740448637479199062775120995513180467012679477822578945635872178010518605686161034237016978980008059237034645358577800152386110910811530732717632547615910191580503657632116102402371785854818503937080520162107012864528008139215258697210494885922890943178539742650051849713821287098339339611565505571736600918611171843511511941229690040236919210452759577504592082842873213335600260810927635326786973875035528006024199663023081042219704613767308193391136775359851325158298799144568092654167878829519856238033670909284759814870995329029089872951273247442873630491126996923627335521964719196707029894776361895377147013464115065811051503040389950261036286571409341498657123513089249862530879164262915499203017584361644583787023273781065754343230692374579850192243148117435164598170148857191986478147227408440060504820196493374954619888342060284000728458897595214280796494157390443590958185107336229691248882370977294538067743636599043806167398580279712774622969588560028589897113661967225832931146118856550898099990546606755529928428665474412472328105646449395707987071534730004167868983073972420068390746818873774034825020143274409376914893190361287518099078636411853552560068719331940454554800572732947277450968753478975802816097736939569778951276800321759356267579003141213870662012094249264616984710473820918543679144529352199086710746858924778792837126298818317325605976841050298553558110953641482770965019383595605831688223879763342318767905561153929073960484010991526208106417642295743666865824337030577671090002194514938778338386025698022853190259682719077401842873596448129828270488486232979527623874614141749602252542434703116187264096025187856919793323879263130015326524644281951157778140005889600205078702696922439283343601121363004538993099931133441023392837370986230447746569033277242600439688563632928302910113855719620263060155548045706741056863100204789452441523283292962231826790824167596200248131930117745187487349234283733660524633519681171782641851670308834185484546237915293841316601625815800396177814925591322627353090399848197299607342286970641879021637040590315675396497313783515559383963349532507207344251311769639243385175875628996739153017634812288813367227247285527892974541751089176658639238414818831789624145109824432798844343395155404964731132974495256415183762581875190525281342862368513341162765080511671107507143177994819775796941668937457374962270590619747810139300328552194494112202576983610655579281289184105129563593431089000185609736850070005093354612691414673956801594326582442102332383818710571432819666242648315975293334022495931852188578425619115748858504830134932954371084600382563230160065940554105823279020916179193132888992518444818405842454323327473748329973966835134792127194992387663637033471046037786169988326755196973824503833438582787419082915553933137651823695828254099738895084777394494420877133785307361790247896905732593782116934062831393467172400587184519628771418158102248834536347782871177099510469473359451731170928917516047897438488447545743423283225330462953840675635143290485131766885462992746255839296072036610298641490765339843032922073845012386977891132738180652847860223530979986250672542411242867895598837215677901996015912144689582860582271928620808860512098466932452381434724556532978656034077725888877184395260645138588087239796713822492310998358441490694018360692783956413500211003643892886901370281802938670039980417149939240293638477582108488130684110852267584890400146785503178555472836626984428311178822119196399136073837253415626590406976355749782039179561144948037927206365340301350650946242722393567209621932345702640244563024536109986196362205631381395700372301591663500244192214939175603474718552232845850903488169119353183667537529374211599018415058417214410645447203743123755899461209641658733572616947754603535671697755100241807724155475581311496700289806300919428907756285219925460251924651856074821852223029266095120984290010551757510188518626940139108326004498842331851490186380891166627922663196755639970512000090403605234652979719135803154992775691436502141005407057980974360716679987711785205492196701719380228193246323791252492461152273597204777669539513426299061434135419876739265674325385992675070742575652878089488609358374596418949876375510587759624203300964978880427653035111485181197787413545426011723430510993283192106291958004349321968984202383353644613030131635035811538053854624735548903094121675157741016864600304708385234560593429579985836112349945735938447385757927372469320331855304420068077267518870914214106806284615437730153944601160505658068198526769878438386896993126623891666038492647065360743169401603724886663452393555458413935288895196340480251150128316202433183795546457552227261929844106612901709708748011170299376010437366102911930023367110881239910074778462761751872287650662006006808043053289979348777084287275442141618825959477480140602052294149951265146390254488255126499140653938409754386490696267098285080156983849831840651017267744433490700933817101634133164275335113693519663872873908531919843803069500877608598702662789473888550335727672198376141149645240800296087348970258631577932596719561609890843696491646765104388499994437610418001043008902469718645148619731327752950459496423173325342155465239206088514345121481760394309393280437634112795762031330641682680723526244332601844733498323723454524965098814482462918821952103749056504949317237541234189517744818019030194459190722412618545250780780247843485778196029784840046074617444391116814748773021520543180566812107814850449610518467588378069462111046002272878199952187399640907897478698055857964615940691824857729667924565243689789003677917154763300017359436760658372765408081975682697828731500307528619098625835934576051693216977575748980494421099223265528366940611209275588080911659101394874037084079362634848107957039949090256039705859332490052656255568199480633684334640996841274635017016338182629625859795491012942444691815212552251778683893481948739227585465634241938232717355174172100101354812807654496683550151442104976046653954496593111359661525473625424910481819550503337204919924572707399486431049640483797417993890950356241538877367475058710171031520081815097027434966547220751203489441739557168600197078523178617481784971637841142358396140008823490381273672811394256395399307801030878755225463100553147543893736714545810193568842807000194011681502045204570437013363093629142045868141198688360054268000047064815474556925522953025586312256433869494451352664677788495626147527908081809605138583284929217947202498864534294622856474696160493298949526182491066358883233820474812827936059676876885888739467107928331385364082325824002166105023571583508691567211347205550078134079327292882939311100703926282141940312498207021043594038392867293015783535483255226186673845346752138714351869517509536514272358072087390344358032244915109707827207087083963016506583934898191497150362444794837279772373704299160525214383003594848532083843879425532950277807375612780562187293188391264016650282948101258550448543609374955543861862080475788935104599114848915803852783556204081055657535489710299346643969292034147860951786295391598528941049664426364529451060728376394863509919490177234879430293830873076744436728667632418135050052719395254740980692248979741838882570583745256462199859854936426459242661225990104797681694435890147757066346137596539593206017751722928090234412823349821491102434653510270289574973582318702709601453351575467408895855085942613448494734043204898608715127092836279927554549576846385390809536894706813483094675141122873936736570477763322773586289709588571720473255247886170129637473419219223362654036505696129470884244054315855950884626459674281847485176060088605533730930929211987801015230074644142617275051724175078137121853477693099775722321083083535850422382326810835868249179974292294793476154513821433866738927929847495136655301015044868806486656779276356242740381745030924928436751968421860292398681817864269055380149092636558003100655097787862166725629154897423284295637523352240998627596215079217847656885380389054118579280810337901679893052059907020399153339320431697480152621724389561681757130784439390686957647903281005304331233560624475172619162847466504782469236485776213740820913267429029858632924070744915006006616281001389298412433572624734317405722261215069048497915771624013717361352230000913200195972561456316660289062889855852263351351539637071966682236585444117250616678311486131213831940318307404188102288497994926817517898544552841500572186936548589015588721185770253632935420624502401333756629452818575354258495828620521393008253684524890279863064051586172343124094499019801125506784880467013015059144445276717988489911656089620699452816168459186066375760847837255664185719140166721036615016965782834866329096852017987272065220412315886335468601307930859215351319013151412888029716025155757645225347344968610585171993294010942696817433336516178990312805993625970757830714852373393840874336026283211369068089008740461183932485278212034681702380793139593324763521670800768113266696348723705050065080992993540553185032795690463664020352380413879898613725583706452164260175419913298945756897093744934260462769556112055492081893670072323456066761855752727199593164157712224547615657194245570029971365434286530615802319586179420259392505776110340080096723724202204114428225232981095685597200316107355005031772578519352359032499392533414226672932949261214093066788824280089061359417917383057560441712614873152504456519714725056716926175525382162572004131735524725542091650720880468803628723813192448356408390907865359957596628058706808762385794466013335921554721716372543978455948367212043267116545721152302152852701156379054240896767934249415528333709443185012450312662325709355214625248871129439116060622626324846539582713062035380310217172192127419043488849668690876308153567209774671693396450073267532238098265456223096416684324698284057906249453846808168145948549271112173145642207466751751767099708542407179562910030917755116685069364845011176785552111100154922166877245448046069769550933642973303268648715449129029753468823955004071925684683209725980513088057495644755051401347215465397775354497685141930096860813848288605216203210115860818489311883937333670714806394378732314112388707147092830759190263485449827165607235847235052170174092911374224725546852717532549863358825881173401027049935095621842982533877999701929257368725328190140044426150197996217080653279826641510881247952999590757115104691591938882841209330103449465526384816447806864585447546400788317699332783865138478383946424277021081226413832149846979914386232866986334660482399547147132505208150693621309427505251053690033131987112144879835115311296476640181881141823439296051067881674179296185218032853751459485510172532823224132640050660090851946424055332485600392173209495618738853423527859248422156116906269488873017328642781403998381669276067325675551413849860264579658036927074454630507949052357667041936495647107188302794830183096304390663270421396138584902900391547612658361752615201024522630181626410257928693798442691888743590842620845284687518379289239762516102952544665734624414903939859510068504959588779167044190353908984982685150529423953289203862353210044216453884343704535373348441797936499331203201188199550106567121151485579947124946747706294628783094768238870476433208050075366355169303104705613379731985353001784583127814523254098861156946296849752367392855750345754649212722641663466891564922953532802953494669624614288975391411435589918513487535328162878444781044275422274518288902586537034639372342352948389409692597650395384554329613075745954184303938920282634579785478861726603148107446613625006054397887548227333442946242521122668944809507728192003433286270692003311338148334150073879055865436605469142147424733128471222402169124626045115799330736250857309103637562938674523183640819339937792780407911430397892329787873818107006269550648404441764513931756277084386246031036142275852090785374191471560365735727425295309668110047673858222327305200154099355657853150292711934780443344413550082058600675024825765511261235999208295403556694534074021249964573675618413563024922805303257670707856178415471264207987466829850162764626558613187165683223158300949659723281667439775413426630796457889973899567137766778102245420901061270204492777042007400097933572244197206989643709644439613487338252572596930255535182282003550948955502755152148579494717382614373862999083867370955816611128548924653095926670608760501838215323454296376555767489075368793587690966435183238662173811206436067076173386933644786663874942115702363505796011569575554341067196341671885376663414280490731473197624473886646631575582404019927001633259843354598554149879360336624810003798003372080252099972275319196273977998959062518526343251906847486172395767509859655113042764718114515950689136664301710992017944157496346188061621390657363186035239735675494808257961558197085836733879240146212241863677642648496407658501744210994334373498635226508965513662920489537506197457790017184893715685338583191239894734097113805160559135059637304673959650078253975653370748595373716304192577669599069107304924946847799530336537096988272171450359307278546888801691985129664560229952745087718472456667953909340936895052680821691098839351620979413042545458311056301857804397309828594299056634882494521396806162763578805929371449115998605910762911096693145315957863547005224421956029903633930764875438374097592232452931715805013917699440262919496322500336092650343201594980739909376329573838880374808173476112200313646290397242499569122775273744331643365707923926048097995801778104058255554687266525393327862564324662586077384539923876309617863219447037386214760222705852010476057548834965449272992308172316397544373109449923163522950101618129454082402885921117978305528988822134599687473525300549735750352577449961251490113832712779663792855700088511098144725509470855186459863814954697161531785266294954304404007790228606356288078143805562874948110692438701403001732206653689924004368900550336196088526972847787512204630336964272076268961982704737447250137811779546243145054695255464428552846109886413308197418574242147572723276270056563336368836976270630801465961845857801470455897547876905355627034808604422453451363945091942812318530785072310348027256980327438759509028488340770682942757612613197207453179294010314934804775487285257038119963427613302131735703326883254645177400968656820019657886240085543166348197853272563672567558937650849120555830460132389019662169648690795242894020637697554718943918377295876469003918129926292435868332422663686249049788161564624567347428694305767076309128357684421130011422463308394396500643593630440974792165928886506768797266390058766984723385154907948419138375234211195309639992324703218582204764968643631052889932323200406999493921520386099606271405258602106148938694967654536478782926226593061395133288749736767311964467974030522878870656253627777474655430934250919603289494722405960501756982552557248131644864045254213962074164023112219569486901278228489919320858259088555351123289285604102894499012819301612942605043329173232718244394730633877994594995369594635677797661362728499800327289821999256041736549545061843420677839642834791765044100794412005496237458625756438116854406069814517048899143342963118726256157155080220543752370680019370975330065182015854504307335040541251478991434285156133246114262016139055948440117606309990924731415267304643502205139054351971409984182278530633329301996878102398454192604328370442395731632055248336946538340293003459596755546709786305509803123566598418231634615959429982115777336498079470752083282113114455602030181835272985047006071500782220586745149766329879250366520371206689892704846401663545058230825190167906234406456635539702748671237131070671563466453009186605056808393126256429884597752739968158576681624145355446359963914266816056704492442787927406650602433022988251079082027251387648705952990252665612466530326087121232492080700860425290277024614517276135958456595240714116087472419713626139615556047956573756270671333917659159149765611528958543688856072915756580047601570922913853459719043045866548854067159694112258305380522507505348296685761356903024016172530720995935002113314469185294476319816350292847468760497291828157940930991564323778486192102711175312479751658050428699705509040501722052663407452128594765131075641985061708934547639388330327249404435373584032210638902122514692543965307842713155577008705196961428833663431504166070747897749928723178095806466915562618499504417999131089831727095933305532540582189033579107071167241585399835099265988711542625277724067836833917669402000577829501767777139096702156544966291913448602924879208510485649033419318261091511169759360788683054347689194774401334010441245643530017233985330170185027932925653048152687868854749050610128193796395490642660955203623759477518505078463309508093904173364630277127891702677293873294716390046986207923393572081396643400869651401715631366256011331730005546362315213421083646999384997106683640088628024252964332382639805556171620806925649833314364426344385188755347882835610651821130523676472089035176377879407528271149737259084902880511794656212775192390852918694037928393537357486184805697163609965746721924472082303827849380517222580553572170386218475478124935534054107957008136748264000490308965643074450325193163381735008799297367526939750635127520155985156745190878757345208697217919971823222087694237405151945323538808625861060819726648657962336362108191024379643713278684267986730218466536473400194341756225769050323297480462928349352533926528067436839318767094970219381527787311411633657598204327492205040957479908776318535739230368723378747488237846876111763987359150119176973989769790821419712991620341274826036493802956421260537590507618309622390248780183146928099323197636559289150428484329657490758887820878916692026757978513630617584249867327981465289461053054748743951808939280902570477411564592237793800037659875262572716237757636613316903645107789858597755631075947826260457363616876790909154202413505205444685387982262066604264991949246045331453814691442349995139350701396302766415991087927872798153141453596911785067238956292005826915967177056379529885504778175533214736212068696729434612783328227971267347176175604649836190644883906401146496203538328356817212313748604906113049297673170318933022537696282034331405789143873125968977889884241408610550721641443518168516645481769912060064421927061218128332608780384174027178915287093889697135151979001590743044696647197222508441180831851697200314047317708494345087703552677045061081677855398842523975840155520950015173532127991495003442315169548249007421716242618739646913273042440941615521008437563579751049183049852899747825545987847876259420449223906834316489983132152658070073693911830669307002025480728483307291028519063061933926918033136416155938934523882825778225364893217851551236986328505514524538777002803827018882113632731326425404753127471894955871885513720028919517738166729252337792016781856221220661448815678275716046376933886388533439328083748113362684393851978876570942058821544822430824735191309611046573115836298827097601190330838900627794520220940103103156306997778928055921273502273613918244280064707831161734727431708067755189785297003716512782588528729445068602283891089356840028120426594245441484945116976989939382614675147426000706738057187014142266086334561409774982410240661502006707334615727133473136480212468899096963423416824305600492303591852147245574328342735024935024473568255849707904070945168713643734809873174447465426508242318604170472528878475158927804013107743844944811465549768873456609180147124624532096054294906625741353893661437825531195550362285827585482362899583768136115182673221275009243528255460194174874650803878048329476952150452257037312605684840987761674442665406344124656870827539434878928916322840472517031286608161870820546953457709862520827814241311149086616331194517457925792580887500095251044009856085757605407044409121691327830794065652190465147186295597827881377884787914108834268125189490629433649973400064585578023078071748871147629270028224850417132724495135719745166990906847693493364355789322141304144325835803096900860917424940648788795564308153969771805788084137940667661745920431378971347120686111627461376326391904722270829938513460159101597317711618428073158331118707404769248899557059791551682792853594075556774225891404384677793811001017400407367428066523831523799051851693152679492899893126468587595857785744663316636612645555964771484931642603676613948011299983080465937526250877516250117002334610594307835439045718312120508279820767102401203361587173276314279227046641187598884414799364549450836270401760893509875317457675346361651390684861336605930651062805451124024396480575434317119804074700058022485194771034449954723521092868362825947233538849449784387579544627445733124824404364787122824274842712346603766721639842047247593484918749812851399723456216399942245154069316858026963884319641456554264813429737007514948379449105094942170888755014950739344756543141247332191270439105999684981601058464808116335334488624485574054995096006475280313293327739277392671959466402800862072593010503035112376324962201845915597406453056897228124786693779006036487808643485666256836995543819060413618525920482763564135644149192019772450598196602954416300863708558785516297239374756516837295082184619855174316246656272782988107127813962321503605520363365118399923131852595927871819753702226507253835101249146740167987430532102684664791920676836851209912738247232900260478207772184631598775088533999030866832296349237172748562475996153827445921190830216697352013981240201756594265456402119389667636812546724474159600183045445473106513022781352708874030873215300464603123579885244701226081786408218043140213605924854948911247727566289913273441809238040802387058773562765141503378164322681849993216738942776270159580982813153658329297124230784675915092715901270186402811863121880128610103755943887061752742445724616537396077303195936390944529076688151189120396684435807919386453738894545765362728037848255314985482848380932575159607276463328760306668403558229494845328177547545133757665416356632368935321697534932576820344261601367614553444911291030556222737874450516777652016390102436811661314789440197945030580604606481813964231728967178354468970943547373057225480009664574250669865522000001]"
      ]
     },
     "execution_count": 106,
     "metadata": {},
     "output_type": "execute_result"
    }
   ],
   "source": [
    "power_nums(1, 2, 3, power=100000)"
   ]
  },
  {
   "cell_type": "code",
   "execution_count": 107,
   "id": "794bce43",
   "metadata": {},
   "outputs": [],
   "source": [
    "@show_timing\n",
    "def fib(n):\n",
    "    if n < 2:\n",
    "        return n\n",
    "    return fib(n - 1) + fib(n - 2)"
   ]
  },
  {
   "cell_type": "code",
   "execution_count": 108,
   "id": "662c9f8e",
   "metadata": {},
   "outputs": [
    {
     "name": "stdout",
     "output_type": "stream",
     "text": [
      "executed func <function fib at 0x104499c10> in 0.0000005840s and got 1\n",
      "executed func <function fib at 0x104499c10> in 0.0000008750s and got 0\n",
      "executed func <function fib at 0x104499c10> in 0.0005348340s and got 1\n",
      "executed func <function fib at 0x104499c10> in 0.0000007910s and got 1\n",
      "executed func <function fib at 0x104499c10> in 0.0010868340s and got 2\n",
      "executed func <function fib at 0x104499c10> in 0.0000004590s and got 1\n",
      "executed func <function fib at 0x104499c10> in 0.0000005420s and got 0\n",
      "executed func <function fib at 0x104499c10> in 0.0001821250s and got 1\n",
      "executed func <function fib at 0x104499c10> in 0.0015193340s and got 3\n"
     ]
    },
    {
     "data": {
      "text/plain": [
       "3"
      ]
     },
     "execution_count": 108,
     "metadata": {},
     "output_type": "execute_result"
    }
   ],
   "source": [
    "fib(4)"
   ]
  },
  {
   "cell_type": "code",
   "execution_count": 109,
   "id": "7b4182c0",
   "metadata": {},
   "outputs": [
    {
     "name": "stdout",
     "output_type": "stream",
     "text": [
      "executed func <function fib at 0x104499c10> in 0.0000007080s and got 1\n",
      "executed func <function fib at 0x104499c10> in 0.0000010420s and got 0\n",
      "executed func <function fib at 0x104499c10> in 0.0009419590s and got 1\n",
      "executed func <function fib at 0x104499c10> in 0.0000008330s and got 1\n",
      "executed func <function fib at 0x104499c10> in 0.0019344590s and got 2\n",
      "executed func <function fib at 0x104499c10> in 0.0000004580s and got 1\n",
      "executed func <function fib at 0x104499c10> in 0.0000005420s and got 0\n",
      "executed func <function fib at 0x104499c10> in 0.0001613340s and got 1\n",
      "executed func <function fib at 0x104499c10> in 0.0022418750s and got 3\n",
      "executed func <function fib at 0x104499c10> in 0.0000004170s and got 1\n",
      "executed func <function fib at 0x104499c10> in 0.0000005830s and got 0\n",
      "executed func <function fib at 0x104499c10> in 0.0001779590s and got 1\n",
      "executed func <function fib at 0x104499c10> in 0.0000005410s and got 1\n",
      "executed func <function fib at 0x104499c10> in 0.0002916670s and got 2\n",
      "executed func <function fib at 0x104499c10> in 0.0027297500s and got 5\n",
      "executed func <function fib at 0x104499c10> in 0.0000003750s and got 1\n",
      "executed func <function fib at 0x104499c10> in 0.0000004160s and got 0\n",
      "executed func <function fib at 0x104499c10> in 0.0001252080s and got 1\n",
      "executed func <function fib at 0x104499c10> in 0.0000008750s and got 1\n",
      "executed func <function fib at 0x104499c10> in 0.0003922080s and got 2\n",
      "executed func <function fib at 0x104499c10> in 0.0000004170s and got 1\n",
      "executed func <function fib at 0x104499c10> in 0.0000004170s and got 0\n",
      "executed func <function fib at 0x104499c10> in 0.0001142080s and got 1\n",
      "executed func <function fib at 0x104499c10> in 0.0006685420s and got 3\n",
      "executed func <function fib at 0x104499c10> in 0.0035392080s and got 8\n",
      "executed func <function fib at 0x104499c10> in 0.0000003750s and got 1\n",
      "executed func <function fib at 0x104499c10> in 0.0000004590s and got 0\n",
      "executed func <function fib at 0x104499c10> in 0.0001706670s and got 1\n",
      "executed func <function fib at 0x104499c10> in 0.0000007920s and got 1\n",
      "executed func <function fib at 0x104499c10> in 0.0003741670s and got 2\n",
      "executed func <function fib at 0x104499c10> in 0.0000003750s and got 1\n",
      "executed func <function fib at 0x104499c10> in 0.0000007910s and got 0\n",
      "executed func <function fib at 0x104499c10> in 0.0010165420s and got 1\n",
      "executed func <function fib at 0x104499c10> in 0.0016131670s and got 3\n",
      "executed func <function fib at 0x104499c10> in 0.0000003750s and got 1\n",
      "executed func <function fib at 0x104499c10> in 0.0000004580s and got 0\n",
      "executed func <function fib at 0x104499c10> in 0.0001586660s and got 1\n",
      "executed func <function fib at 0x104499c10> in 0.0000006250s and got 1\n",
      "executed func <function fib at 0x104499c10> in 0.0003457920s and got 2\n",
      "executed func <function fib at 0x104499c10> in 0.0021172080s and got 5\n",
      "executed func <function fib at 0x104499c10> in 0.0059180000s and got 13\n",
      "executed func <function fib at 0x104499c10> in 0.0000004590s and got 1\n",
      "executed func <function fib at 0x104499c10> in 0.0000004170s and got 0\n",
      "executed func <function fib at 0x104499c10> in 0.0001310830s and got 1\n",
      "executed func <function fib at 0x104499c10> in 0.0000004580s and got 1\n",
      "executed func <function fib at 0x104499c10> in 0.0002542920s and got 2\n",
      "executed func <function fib at 0x104499c10> in 0.0000004170s and got 1\n",
      "executed func <function fib at 0x104499c10> in 0.0000005000s and got 0\n",
      "executed func <function fib at 0x104499c10> in 0.0001328750s and got 1\n",
      "executed func <function fib at 0x104499c10> in 0.0005490000s and got 3\n",
      "executed func <function fib at 0x104499c10> in 0.0000003750s and got 1\n",
      "executed func <function fib at 0x104499c10> in 0.0000004170s and got 0\n",
      "executed func <function fib at 0x104499c10> in 0.0001289170s and got 1\n",
      "executed func <function fib at 0x104499c10> in 0.0000005000s and got 1\n",
      "executed func <function fib at 0x104499c10> in 0.0002867910s and got 2\n",
      "executed func <function fib at 0x104499c10> in 0.0010110840s and got 5\n",
      "executed func <function fib at 0x104499c10> in 0.0000003330s and got 1\n",
      "executed func <function fib at 0x104499c10> in 0.0000004580s and got 0\n",
      "executed func <function fib at 0x104499c10> in 0.0001390000s and got 1\n",
      "executed func <function fib at 0x104499c10> in 0.0000005840s and got 1\n",
      "executed func <function fib at 0x104499c10> in 0.0003071250s and got 2\n",
      "executed func <function fib at 0x104499c10> in 0.0000003340s and got 1\n",
      "executed func <function fib at 0x104499c10> in 0.0000005830s and got 0\n",
      "executed func <function fib at 0x104499c10> in 0.0006307920s and got 1\n",
      "executed func <function fib at 0x104499c10> in 0.0010793750s and got 3\n",
      "executed func <function fib at 0x104499c10> in 0.0022115840s and got 8\n",
      "executed func <function fib at 0x104499c10> in 0.0082703330s and got 21\n",
      "executed func <function fib at 0x104499c10> in 0.0000003330s and got 1\n",
      "executed func <function fib at 0x104499c10> in 0.0000004580s and got 0\n",
      "executed func <function fib at 0x104499c10> in 0.0001324160s and got 1\n",
      "executed func <function fib at 0x104499c10> in 0.0000004580s and got 1\n",
      "executed func <function fib at 0x104499c10> in 0.0002588330s and got 2\n",
      "executed func <function fib at 0x104499c10> in 0.0000002910s and got 1\n",
      "executed func <function fib at 0x104499c10> in 0.0000004170s and got 0\n",
      "executed func <function fib at 0x104499c10> in 0.0001250000s and got 1\n",
      "executed func <function fib at 0x104499c10> in 0.0006646250s and got 3\n",
      "executed func <function fib at 0x104499c10> in 0.0000003750s and got 1\n",
      "executed func <function fib at 0x104499c10> in 0.0000006250s and got 0\n",
      "executed func <function fib at 0x104499c10> in 0.0002869170s and got 1\n",
      "executed func <function fib at 0x104499c10> in 0.0000005420s and got 1\n",
      "executed func <function fib at 0x104499c10> in 0.0004114160s and got 2\n",
      "executed func <function fib at 0x104499c10> in 0.0013083750s and got 5\n",
      "executed func <function fib at 0x104499c10> in 0.0000003340s and got 1\n",
      "executed func <function fib at 0x104499c10> in 0.0000005000s and got 0\n",
      "executed func <function fib at 0x104499c10> in 0.0002760420s and got 1\n",
      "executed func <function fib at 0x104499c10> in 0.0000005840s and got 1\n",
      "executed func <function fib at 0x104499c10> in 0.0004160420s and got 2\n",
      "executed func <function fib at 0x104499c10> in 0.0000004170s and got 1\n",
      "executed func <function fib at 0x104499c10> in 0.0000005830s and got 0\n",
      "executed func <function fib at 0x104499c10> in 0.0002598750s and got 1\n",
      "executed func <function fib at 0x104499c10> in 0.0008103750s and got 3\n",
      "executed func <function fib at 0x104499c10> in 0.0022552080s and got 8\n",
      "executed func <function fib at 0x104499c10> in 0.0000004170s and got 1\n",
      "executed func <function fib at 0x104499c10> in 0.0000006250s and got 0\n",
      "executed func <function fib at 0x104499c10> in 0.0001816670s and got 1\n",
      "executed func <function fib at 0x104499c10> in 0.0000006250s and got 1\n",
      "executed func <function fib at 0x104499c10> in 0.0005407090s and got 2\n",
      "executed func <function fib at 0x104499c10> in 0.0000004170s and got 1\n",
      "executed func <function fib at 0x104499c10> in 0.0000005000s and got 0\n",
      "executed func <function fib at 0x104499c10> in 0.0001586670s and got 1\n",
      "executed func <function fib at 0x104499c10> in 0.0008665830s and got 3\n",
      "executed func <function fib at 0x104499c10> in 0.0000003340s and got 1\n",
      "executed func <function fib at 0x104499c10> in 0.0000004580s and got 0\n",
      "executed func <function fib at 0x104499c10> in 0.0001263330s and got 1\n",
      "executed func <function fib at 0x104499c10> in 0.0000004580s and got 1\n",
      "executed func <function fib at 0x104499c10> in 0.0002633750s and got 2\n",
      "executed func <function fib at 0x104499c10> in 0.0012576250s and got 5\n",
      "executed func <function fib at 0x104499c10> in 0.0037360000s and got 13\n",
      "executed func <function fib at 0x104499c10> in 0.0121356250s and got 34\n",
      "executed func <function fib at 0x104499c10> in 0.0000005000s and got 1\n",
      "executed func <function fib at 0x104499c10> in 0.0000005000s and got 0\n",
      "executed func <function fib at 0x104499c10> in 0.0001255000s and got 1\n",
      "executed func <function fib at 0x104499c10> in 0.0000005000s and got 1\n",
      "executed func <function fib at 0x104499c10> in 0.0002617080s and got 2\n",
      "executed func <function fib at 0x104499c10> in 0.0000003340s and got 1\n",
      "executed func <function fib at 0x104499c10> in 0.0000004170s and got 0\n",
      "executed func <function fib at 0x104499c10> in 0.0004167080s and got 1\n",
      "executed func <function fib at 0x104499c10> in 0.0008491670s and got 3\n",
      "executed func <function fib at 0x104499c10> in 0.0000003330s and got 1\n",
      "executed func <function fib at 0x104499c10> in 0.0000003750s and got 0\n",
      "executed func <function fib at 0x104499c10> in 0.0002312080s and got 1\n",
      "executed func <function fib at 0x104499c10> in 0.0000006250s and got 1\n",
      "executed func <function fib at 0x104499c10> in 0.0003536670s and got 2\n",
      "executed func <function fib at 0x104499c10> in 0.0013410830s and got 5\n",
      "executed func <function fib at 0x104499c10> in 0.0000003750s and got 1\n",
      "executed func <function fib at 0x104499c10> in 0.0000005000s and got 0\n",
      "executed func <function fib at 0x104499c10> in 0.0001486250s and got 1\n",
      "executed func <function fib at 0x104499c10> in 0.0000005830s and got 1\n",
      "executed func <function fib at 0x104499c10> in 0.0004078340s and got 2\n",
      "executed func <function fib at 0x104499c10> in 0.0000003750s and got 1\n",
      "executed func <function fib at 0x104499c10> in 0.0000004160s and got 0\n",
      "executed func <function fib at 0x104499c10> in 0.0001290840s and got 1\n",
      "executed func <function fib at 0x104499c10> in 0.0008302910s and got 3\n",
      "executed func <function fib at 0x104499c10> in 0.0023999170s and got 8\n",
      "executed func <function fib at 0x104499c10> in 0.0000003330s and got 1\n",
      "executed func <function fib at 0x104499c10> in 0.0000006250s and got 0\n",
      "executed func <function fib at 0x104499c10> in 0.0001625420s and got 1\n",
      "executed func <function fib at 0x104499c10> in 0.0000006670s and got 1\n",
      "executed func <function fib at 0x104499c10> in 0.0004485420s and got 2\n",
      "executed func <function fib at 0x104499c10> in 0.0000003750s and got 1\n",
      "executed func <function fib at 0x104499c10> in 0.0000022500s and got 0\n",
      "executed func <function fib at 0x104499c10> in 0.0001262910s and got 1\n",
      "executed func <function fib at 0x104499c10> in 0.0007100000s and got 3\n",
      "executed func <function fib at 0x104499c10> in 0.0000003330s and got 1\n",
      "executed func <function fib at 0x104499c10> in 0.0000003750s and got 0\n",
      "executed func <function fib at 0x104499c10> in 0.0001163330s and got 1\n",
      "executed func <function fib at 0x104499c10> in 0.0000004170s and got 1\n",
      "executed func <function fib at 0x104499c10> in 0.0002332090s and got 2\n",
      "executed func <function fib at 0x104499c10> in 0.0010610830s and got 5\n",
      "executed func <function fib at 0x104499c10> in 0.0036502500s and got 13\n",
      "executed func <function fib at 0x104499c10> in 0.0000003330s and got 1\n",
      "executed func <function fib at 0x104499c10> in 0.0000004170s and got 0\n",
      "executed func <function fib at 0x104499c10> in 0.0036207920s and got 1\n",
      "executed func <function fib at 0x104499c10> in 0.0000005000s and got 1\n",
      "executed func <function fib at 0x104499c10> in 0.0036930840s and got 2\n",
      "executed func <function fib at 0x104499c10> in 0.0000002080s and got 1\n",
      "executed func <function fib at 0x104499c10> in 0.0000001660s and got 0\n",
      "executed func <function fib at 0x104499c10> in 0.0001210000s and got 1\n",
      "executed func <function fib at 0x104499c10> in 0.0038785000s and got 3\n",
      "executed func <function fib at 0x104499c10> in 0.0000001250s and got 1\n",
      "executed func <function fib at 0x104499c10> in 0.0000006250s and got 0\n",
      "executed func <function fib at 0x104499c10> in 0.0000788340s and got 1\n",
      "executed func <function fib at 0x104499c10> in 0.0000002500s and got 1\n",
      "executed func <function fib at 0x104499c10> in 0.0001402080s and got 2\n",
      "executed func <function fib at 0x104499c10> in 0.0040935840s and got 5\n",
      "executed func <function fib at 0x104499c10> in 0.0000001670s and got 1\n",
      "executed func <function fib at 0x104499c10> in 0.0000001660s and got 0\n",
      "executed func <function fib at 0x104499c10> in 0.0000627920s and got 1\n",
      "executed func <function fib at 0x104499c10> in 0.0000001670s and got 1\n",
      "executed func <function fib at 0x104499c10> in 0.0001240830s and got 2\n",
      "executed func <function fib at 0x104499c10> in 0.0000001250s and got 1\n",
      "executed func <function fib at 0x104499c10> in 0.0000001250s and got 0\n",
      "executed func <function fib at 0x104499c10> in 0.0000614170s and got 1\n",
      "executed func <function fib at 0x104499c10> in 0.0002561250s and got 3\n",
      "executed func <function fib at 0x104499c10> in 0.0045285410s and got 8\n",
      "executed func <function fib at 0x104499c10> in 0.0082819580s and got 21\n",
      "executed func <function fib at 0x104499c10> in 0.0205336670s and got 55\n"
     ]
    },
    {
     "data": {
      "text/plain": [
       "55"
      ]
     },
     "execution_count": 109,
     "metadata": {},
     "output_type": "execute_result"
    }
   ],
   "source": [
    "fib(10)"
   ]
  },
  {
   "cell_type": "code",
   "execution_count": 110,
   "id": "36d1fe8f",
   "metadata": {},
   "outputs": [],
   "source": [
    "from functools import lru_cache"
   ]
  },
  {
   "cell_type": "code",
   "execution_count": 111,
   "id": "941971cb",
   "metadata": {},
   "outputs": [],
   "source": [
    "@lru_cache\n",
    "@show_timing\n",
    "def fib(n):\n",
    "    if n < 2:\n",
    "        return n\n",
    "    return fib(n - 1) + fib(n - 2)"
   ]
  },
  {
   "cell_type": "code",
   "execution_count": 112,
   "id": "3e9b6e8b",
   "metadata": {},
   "outputs": [
    {
     "name": "stdout",
     "output_type": "stream",
     "text": [
      "executed func <function fib at 0x10445fee0> in 0.0000005840s and got 1\n",
      "executed func <function fib at 0x10445fee0> in 0.0000006660s and got 0\n",
      "executed func <function fib at 0x10445fee0> in 0.0005992920s and got 1\n",
      "executed func <function fib at 0x10445fee0> in 0.0006765000s and got 2\n",
      "executed func <function fib at 0x10445fee0> in 0.0007780840s and got 3\n",
      "executed func <function fib at 0x10445fee0> in 0.0008787910s and got 5\n"
     ]
    },
    {
     "data": {
      "text/plain": [
       "5"
      ]
     },
     "execution_count": 112,
     "metadata": {},
     "output_type": "execute_result"
    }
   ],
   "source": [
    "fib(5)"
   ]
  },
  {
   "cell_type": "code",
   "execution_count": 113,
   "id": "ee776252",
   "metadata": {},
   "outputs": [],
   "source": [
    "@show_timing\n",
    "@lru_cache\n",
    "def fib(n):\n",
    "    if n < 2:\n",
    "        return n\n",
    "    return fib(n - 1) + fib(n - 2)"
   ]
  },
  {
   "cell_type": "code",
   "execution_count": 114,
   "id": "ff0250c1",
   "metadata": {},
   "outputs": [
    {
     "name": "stdout",
     "output_type": "stream",
     "text": [
      "executed func <functools._lru_cache_wrapper object at 0x104468f40> in 0.0000010410s and got 1\n",
      "executed func <functools._lru_cache_wrapper object at 0x104468f40> in 0.0000011250s and got 0\n",
      "executed func <functools._lru_cache_wrapper object at 0x104468f40> in 0.0003121250s and got 1\n",
      "executed func <functools._lru_cache_wrapper object at 0x104468f40> in 0.0000007920s and got 1\n",
      "executed func <functools._lru_cache_wrapper object at 0x104468f40> in 0.0006226250s and got 2\n",
      "executed func <functools._lru_cache_wrapper object at 0x104468f40> in 0.0000005000s and got 1\n",
      "executed func <functools._lru_cache_wrapper object at 0x104468f40> in 0.0007909580s and got 3\n",
      "executed func <functools._lru_cache_wrapper object at 0x104468f40> in 0.0000006250s and got 2\n",
      "executed func <functools._lru_cache_wrapper object at 0x104468f40> in 0.0009332500s and got 5\n"
     ]
    },
    {
     "data": {
      "text/plain": [
       "5"
      ]
     },
     "execution_count": 114,
     "metadata": {},
     "output_type": "execute_result"
    }
   ],
   "source": [
    "fib(5)"
   ]
  },
  {
   "cell_type": "code",
   "execution_count": 115,
   "id": "7c287fd3",
   "metadata": {},
   "outputs": [],
   "source": [
    "@lru_cache\n",
    "@show_timing\n",
    "def fib(n):\n",
    "    if n < 2:\n",
    "        return n\n",
    "    return fib(n - 1) + fib(n - 2)"
   ]
  },
  {
   "cell_type": "code",
   "execution_count": 116,
   "id": "bc30f885",
   "metadata": {},
   "outputs": [
    {
     "name": "stdout",
     "output_type": "stream",
     "text": [
      "executed func <function fib at 0x104499820> in 0.0000007500s and got 1\n",
      "executed func <function fib at 0x104499820> in 0.0000005830s and got 0\n",
      "executed func <function fib at 0x104499820> in 0.0002660000s and got 1\n",
      "executed func <function fib at 0x104499820> in 0.0009232500s and got 2\n",
      "executed func <function fib at 0x104499820> in 0.0010481670s and got 3\n",
      "executed func <function fib at 0x104499820> in 0.0011467500s and got 5\n",
      "executed func <function fib at 0x104499820> in 0.0012935000s and got 8\n",
      "executed func <function fib at 0x104499820> in 0.0015326670s and got 13\n",
      "executed func <function fib at 0x104499820> in 0.0016221660s and got 21\n",
      "executed func <function fib at 0x104499820> in 0.0019129590s and got 34\n",
      "executed func <function fib at 0x104499820> in 0.0019760420s and got 55\n"
     ]
    },
    {
     "data": {
      "text/plain": [
       "55"
      ]
     },
     "execution_count": 116,
     "metadata": {},
     "output_type": "execute_result"
    }
   ],
   "source": [
    "fib(10)"
   ]
  },
  {
   "cell_type": "code",
   "execution_count": 117,
   "id": "2a15a29b",
   "metadata": {},
   "outputs": [
    {
     "name": "stdout",
     "output_type": "stream",
     "text": [
      "executed func <function fib at 0x104499820> in 0.0000015000s and got 89\n",
      "executed func <function fib at 0x104499820> in 0.0002299170s and got 144\n",
      "executed func <function fib at 0x104499820> in 0.0006740840s and got 233\n",
      "executed func <function fib at 0x104499820> in 0.0007870410s and got 377\n",
      "executed func <function fib at 0x104499820> in 0.0008953750s and got 610\n",
      "executed func <function fib at 0x104499820> in 0.0010100410s and got 987\n",
      "executed func <function fib at 0x104499820> in 0.0013549170s and got 1597\n",
      "executed func <function fib at 0x104499820> in 0.0014158340s and got 2584\n",
      "executed func <function fib at 0x104499820> in 0.0016475000s and got 4181\n",
      "executed func <function fib at 0x104499820> in 0.0019645420s and got 6765\n",
      "executed func <function fib at 0x104499820> in 0.0026114170s and got 10946\n",
      "executed func <function fib at 0x104499820> in 0.0027754160s and got 17711\n",
      "executed func <function fib at 0x104499820> in 0.0029650830s and got 28657\n",
      "executed func <function fib at 0x104499820> in 0.0030327500s and got 46368\n",
      "executed func <function fib at 0x104499820> in 0.0032337500s and got 75025\n",
      "executed func <function fib at 0x104499820> in 0.0033186670s and got 121393\n",
      "executed func <function fib at 0x104499820> in 0.0033802910s and got 196418\n",
      "executed func <function fib at 0x104499820> in 0.0034656670s and got 317811\n",
      "executed func <function fib at 0x104499820> in 0.0035409580s and got 514229\n",
      "executed func <function fib at 0x104499820> in 0.0038247080s and got 832040\n",
      "executed func <function fib at 0x104499820> in 0.0039126250s and got 1346269\n",
      "executed func <function fib at 0x104499820> in 0.0039890410s and got 2178309\n",
      "executed func <function fib at 0x104499820> in 0.0041757920s and got 3524578\n",
      "executed func <function fib at 0x104499820> in 0.0042424580s and got 5702887\n",
      "executed func <function fib at 0x104499820> in 0.0044190000s and got 9227465\n",
      "executed func <function fib at 0x104499820> in 0.0045812080s and got 14930352\n",
      "executed func <function fib at 0x104499820> in 0.0046484580s and got 24157817\n",
      "executed func <function fib at 0x104499820> in 0.0047106660s and got 39088169\n",
      "executed func <function fib at 0x104499820> in 0.0047813750s and got 63245986\n",
      "executed func <function fib at 0x104499820> in 0.0048419590s and got 102334155\n",
      "executed func <function fib at 0x104499820> in 0.0049014580s and got 165580141\n",
      "executed func <function fib at 0x104499820> in 0.0049656670s and got 267914296\n",
      "executed func <function fib at 0x104499820> in 0.0050427910s and got 433494437\n",
      "executed func <function fib at 0x104499820> in 0.0051061660s and got 701408733\n",
      "executed func <function fib at 0x104499820> in 0.0053102500s and got 1134903170\n",
      "executed func <function fib at 0x104499820> in 0.0053728750s and got 1836311903\n",
      "executed func <function fib at 0x104499820> in 0.0054348750s and got 2971215073\n",
      "executed func <function fib at 0x104499820> in 0.0055117500s and got 4807526976\n",
      "executed func <function fib at 0x104499820> in 0.0055852500s and got 7778742049\n",
      "executed func <function fib at 0x104499820> in 0.0056497920s and got 12586269025\n",
      "executed func <function fib at 0x104499820> in 0.0057287910s and got 20365011074\n",
      "executed func <function fib at 0x104499820> in 0.0057927920s and got 32951280099\n",
      "executed func <function fib at 0x104499820> in 0.0059938330s and got 53316291173\n",
      "executed func <function fib at 0x104499820> in 0.0060563750s and got 86267571272\n",
      "executed func <function fib at 0x104499820> in 0.0061154160s and got 139583862445\n",
      "executed func <function fib at 0x104499820> in 0.0061740830s and got 225851433717\n",
      "executed func <function fib at 0x104499820> in 0.0062397920s and got 365435296162\n",
      "executed func <function fib at 0x104499820> in 0.0063173750s and got 591286729879\n",
      "executed func <function fib at 0x104499820> in 0.0064235420s and got 956722026041\n",
      "executed func <function fib at 0x104499820> in 0.0065037920s and got 1548008755920\n",
      "executed func <function fib at 0x104499820> in 0.0065806660s and got 2504730781961\n",
      "executed func <function fib at 0x104499820> in 0.0066521670s and got 4052739537881\n",
      "executed func <function fib at 0x104499820> in 0.0067142500s and got 6557470319842\n",
      "executed func <function fib at 0x104499820> in 0.0067810420s and got 10610209857723\n",
      "executed func <function fib at 0x104499820> in 0.0068523750s and got 17167680177565\n",
      "executed func <function fib at 0x104499820> in 0.0069157080s and got 27777890035288\n",
      "executed func <function fib at 0x104499820> in 0.0069778330s and got 44945570212853\n",
      "executed func <function fib at 0x104499820> in 0.0070520000s and got 72723460248141\n",
      "executed func <function fib at 0x104499820> in 0.0071121250s and got 117669030460994\n",
      "executed func <function fib at 0x104499820> in 0.0071711250s and got 190392490709135\n",
      "executed func <function fib at 0x104499820> in 0.0072358750s and got 308061521170129\n",
      "executed func <function fib at 0x104499820> in 0.0072944170s and got 498454011879264\n",
      "executed func <function fib at 0x104499820> in 0.0073615420s and got 806515533049393\n",
      "executed func <function fib at 0x104499820> in 0.0074172500s and got 1304969544928657\n",
      "executed func <function fib at 0x104499820> in 0.0074832080s and got 2111485077978050\n",
      "executed func <function fib at 0x104499820> in 0.0077438330s and got 3416454622906707\n",
      "executed func <function fib at 0x104499820> in 0.0078512920s and got 5527939700884757\n",
      "executed func <function fib at 0x104499820> in 0.0079185420s and got 8944394323791464\n",
      "executed func <function fib at 0x104499820> in 0.0079814590s and got 14472334024676221\n",
      "executed func <function fib at 0x104499820> in 0.0080434580s and got 23416728348467685\n",
      "executed func <function fib at 0x104499820> in 0.0081017920s and got 37889062373143906\n",
      "executed func <function fib at 0x104499820> in 0.0081845000s and got 61305790721611591\n",
      "executed func <function fib at 0x104499820> in 0.0082487500s and got 99194853094755497\n",
      "executed func <function fib at 0x104499820> in 0.0083143330s and got 160500643816367088\n",
      "executed func <function fib at 0x104499820> in 0.0083788750s and got 259695496911122585\n",
      "executed func <function fib at 0x104499820> in 0.0084579160s and got 420196140727489673\n",
      "executed func <function fib at 0x104499820> in 0.0085232920s and got 679891637638612258\n",
      "executed func <function fib at 0x104499820> in 0.0087331670s and got 1100087778366101931\n",
      "executed func <function fib at 0x104499820> in 0.0088016250s and got 1779979416004714189\n",
      "executed func <function fib at 0x104499820> in 0.0088634590s and got 2880067194370816120\n",
      "executed func <function fib at 0x104499820> in 0.0089270840s and got 4660046610375530309\n",
      "executed func <function fib at 0x104499820> in 0.0089915000s and got 7540113804746346429\n",
      "executed func <function fib at 0x104499820> in 0.0090537080s and got 12200160415121876738\n",
      "executed func <function fib at 0x104499820> in 0.0091161250s and got 19740274219868223167\n",
      "executed func <function fib at 0x104499820> in 0.0091763340s and got 31940434634990099905\n",
      "executed func <function fib at 0x104499820> in 0.0092364160s and got 51680708854858323072\n",
      "executed func <function fib at 0x104499820> in 0.0092987910s and got 83621143489848422977\n",
      "executed func <function fib at 0x104499820> in 0.0093612920s and got 135301852344706746049\n",
      "executed func <function fib at 0x104499820> in 0.0094231250s and got 218922995834555169026\n",
      "executed func <function fib at 0x104499820> in 0.0094905000s and got 354224848179261915075\n"
     ]
    },
    {
     "data": {
      "text/plain": [
       "354224848179261915075"
      ]
     },
     "execution_count": 117,
     "metadata": {},
     "output_type": "execute_result"
    }
   ],
   "source": [
    "fib(100)"
   ]
  },
  {
   "cell_type": "code",
   "execution_count": null,
   "id": "64ba29ca",
   "metadata": {},
   "outputs": [],
   "source": []
  }
 ],
 "metadata": {
  "kernelspec": {
   "display_name": "Python 3 (ipykernel)",
   "language": "python",
   "name": "python3"
  },
  "language_info": {
   "codemirror_mode": {
    "name": "ipython",
    "version": 3
   },
   "file_extension": ".py",
   "mimetype": "text/x-python",
   "name": "python",
   "nbconvert_exporter": "python",
   "pygments_lexer": "ipython3",
   "version": "3.9.1"
  }
 },
 "nbformat": 4,
 "nbformat_minor": 5
}